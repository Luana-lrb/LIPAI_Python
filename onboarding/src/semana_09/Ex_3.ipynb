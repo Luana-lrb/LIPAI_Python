{
  "nbformat": 4,
  "nbformat_minor": 0,
  "metadata": {
    "colab": {
      "provenance": [],
      "authorship_tag": "ABX9TyN8Mhao9879Icwr3FAY5yph",
      "include_colab_link": true
    },
    "kernelspec": {
      "name": "python3",
      "display_name": "Python 3"
    },
    "language_info": {
      "name": "python"
    }
  },
  "cells": [
    {
      "cell_type": "markdown",
      "metadata": {
        "id": "view-in-github",
        "colab_type": "text"
      },
      "source": [
        "<a href=\"https://colab.research.google.com/github/Luana-lrb/LIPAI_Python/blob/main/onboarding/src/semana_09/Ex_3.ipynb\" target=\"_parent\"><img src=\"https://colab.research.google.com/assets/colab-badge.svg\" alt=\"Open In Colab\"/></a>"
      ]
    },
    {
      "cell_type": "markdown",
      "source": [
        "# **Exercício 3**  \n",
        "A transformação transforms.RandomHorizontalFlip() é muito comum em problemas de visão computacional. Você a aplicaria para o dataset MNIST? Justifique sua resposta pensando em como essa transformação afetaria a classificação de dígitos específicos (por exemplo, o '6' e o '9')."
      ],
      "metadata": {
        "id": "330dNde6sEao"
      }
    },
    {
      "cell_type": "markdown",
      "source": [
        "> Não, porque essa transformação é inadequada para dígitos manuscritos. Apresentando o problema de **invariância semântica**, ao espelhar horizontalmente os dígitos, você cria imagens que não fazem sentido ou que mudam completamente de classe, no caso do 6 e do 9, um 6 espelhado horizontalmente pode se parecer muito com um 9, e vice-versa. Isso confunde o modelo, pois a mesma transformação gera classes diferentes. Então, o RandomHorizontalFlip() é mais útil em casos em que a classe não muda com o espelhamento."
      ],
      "metadata": {
        "id": "OqTeucrYsaPb"
      }
    }
  ]
}