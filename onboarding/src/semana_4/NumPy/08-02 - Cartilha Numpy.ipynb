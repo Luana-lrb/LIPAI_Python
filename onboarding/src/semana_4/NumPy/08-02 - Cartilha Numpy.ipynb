{
 "cells": [
  {
   "cell_type": "markdown",
   "metadata": {},
   "source": [
    "Documentação : https://numpy.org/doc/stable/user/absolute_beginners.html#numpy-the-absolute-basics-for-beginners"
   ]
  },
  {
   "cell_type": "markdown",
   "metadata": {},
   "source": [
    "## Instalação:"
   ]
  },
  {
   "cell_type": "markdown",
   "metadata": {},
   "source": [
    "Insira o código abaixo no Anaconda Prompt:\n",
    "<b>pip install numpy</b>\n",
    "\n",
    "https://numpy.org/install/"
   ]
  },
  {
   "cell_type": "markdown",
   "metadata": {},
   "source": [
    "## Importação:\n",
    "https://numpy.org/doc/stable/user/absolute_beginners.html#how-to-import-numpy"
   ]
  },
  {
   "cell_type": "code",
   "execution_count": null,
   "metadata": {},
   "outputs": [],
   "source": [
    "import numpy as np"
   ]
  },
  {
   "cell_type": "markdown",
   "metadata": {},
   "source": [
    "## O que é um array?\n",
    "Tipos de arrays:\n",
    "ndarrays -> significam arrays com N dimensões<br>\n",
    "1-D array-> Possui apenas uma dimensão. Será comumente chamado de <b> vetor ou vector </b> <br>\n",
    "2-D array -> Possui 2 dimensões. Será comumente chamado de <b> matriz ou matrix</b> <br>\n",
    "3-D ou Mais array -> Possui 3 ou mais dimensões. Será comumente chamado de <b>tensor</b> \n",
    "                                     \n",
    "https://numpy.org/doc/stable/reference/arrays.html#arrays"
   ]
  },
  {
   "cell_type": "markdown",
   "metadata": {},
   "source": [
    "## Criando um Array:"
   ]
  },
  {
   "cell_type": "markdown",
   "metadata": {},
   "source": [
    "### np.array()\n",
    "https://numpy.org/doc/stable/reference/generated/numpy.array.html?highlight=numpy%20array#numpy-array"
   ]
  },
  {
   "cell_type": "code",
   "execution_count": null,
   "metadata": {},
   "outputs": [],
   "source": [
    "a = np.array([[1,2,3,4,5,6],[3,4,5,6,7,8]])\n",
    "print(a)\n",
    "print(type(a))"
   ]
  },
  {
   "cell_type": "markdown",
   "metadata": {},
   "source": [
    "### np.zeros()\n",
    "https://numpy.org/doc/stable/reference/generated/numpy.zeros.html"
   ]
  },
  {
   "cell_type": "code",
   "execution_count": null,
   "metadata": {},
   "outputs": [],
   "source": [
    "zero_array = np.zeros(shape = (5,3,6))\n",
    "print(zero_array)"
   ]
  },
  {
   "cell_type": "markdown",
   "metadata": {},
   "source": [
    "### np.ones()\n",
    "https://numpy.org/doc/stable/reference/generated/numpy.ones.html"
   ]
  },
  {
   "cell_type": "code",
   "execution_count": null,
   "metadata": {},
   "outputs": [],
   "source": [
    "um_array = np.ones(2)\n",
    "print(um_array)"
   ]
  },
  {
   "cell_type": "markdown",
   "metadata": {},
   "source": [
    "### no.empty()\n",
    "https://numpy.org/doc/stable/reference/generated/numpy.empty.html"
   ]
  },
  {
   "cell_type": "code",
   "execution_count": null,
   "metadata": {},
   "outputs": [],
   "source": [
    "vazio_array = np.empty(3)\n",
    "print(vazio_array)"
   ]
  },
  {
   "cell_type": "markdown",
   "metadata": {},
   "source": [
    "### np.arange()\n",
    "https://numpy.org/doc/stable/reference/generated/numpy.arange.html"
   ]
  },
  {
   "cell_type": "code",
   "execution_count": null,
   "metadata": {},
   "outputs": [],
   "source": [
    "# Dá uma sequência de números:\n",
    "zero_dez = np.arange(10)\n",
    "print(zero_dez)\n",
    "pula_dois = np.arange(3,15,2)\n",
    "print(pula_dois)\n"
   ]
  },
  {
   "cell_type": "markdown",
   "metadata": {},
   "source": [
    "### np.linspace()\n",
    "https://numpy.org/doc/stable/reference/generated/numpy.linspace.html"
   ]
  },
  {
   "cell_type": "code",
   "execution_count": null,
   "metadata": {},
   "outputs": [],
   "source": [
    "array_linear = np.linspace(0, 100 , num = 20, endpoint = False, retstep = True)\n",
    "print(array_linear)"
   ]
  },
  {
   "cell_type": "markdown",
   "metadata": {},
   "source": [
    "## Descobrindo o tamanho de um array:\n",
    "Número de dimensões : https://numpy.org/doc/stable/reference/generated/numpy.ndarray.ndim.html <br>\n",
    "Número de items: https://numpy.org/doc/stable/reference/generated/numpy.ndarray.size.html\n",
    "Formato : https://numpy.org/doc/stable/reference/generated/numpy.ndarray.shape.html\n"
   ]
  },
  {
   "cell_type": "code",
   "execution_count": null,
   "metadata": {},
   "outputs": [],
   "source": [
    "zero_array = np.zeros(shape = (5,3,6))\n",
    "print(zero_array)"
   ]
  },
  {
   "cell_type": "code",
   "execution_count": null,
   "metadata": {},
   "outputs": [],
   "source": [
    "print(zero_array.shape)\n",
    "print(zero_array.size)\n",
    "print(zero_array.ndim)"
   ]
  },
  {
   "cell_type": "markdown",
   "metadata": {},
   "source": [
    "### Mudando o tamanho de um array:\n",
    "\n",
    "https://numpy.org/doc/stable/reference/generated/numpy.reshape.html"
   ]
  },
  {
   "cell_type": "markdown",
   "metadata": {},
   "source": [
    "### Rankeando um array:"
   ]
  },
  {
   "cell_type": "markdown",
   "metadata": {},
   "source": [
    "https://numpy.org/doc/stable/reference/generated/numpy.sort.html"
   ]
  },
  {
   "cell_type": "markdown",
   "metadata": {},
   "source": [
    "## Transformando um Vetor (1-D) em uma matrix(2-D)\n",
    ".newaxis:https://numpy.org/doc/stable/reference/constants.html?#numpy.newaxis <br>\n",
    ".expand_dims:https://numpy.org/doc/stable/reference/generated/numpy.expand_dims.html#numpy.expand_dims"
   ]
  },
  {
   "cell_type": "code",
   "execution_count": null,
   "metadata": {},
   "outputs": [],
   "source": [
    "a = np.array( [ 1, 2, 3])\n",
    "print(a.shape)"
   ]
  },
  {
   "cell_type": "code",
   "execution_count": null,
   "metadata": {},
   "outputs": [],
   "source": [
    "a2 = a[np.newaxis,:]\n",
    "print(a2.shape)\n",
    "print(a2)"
   ]
  },
  {
   "cell_type": "code",
   "execution_count": null,
   "metadata": {},
   "outputs": [],
   "source": [
    "a2 = a[:,np.newaxis]\n",
    "print(a2.shape)\n",
    "print(a2)"
   ]
  },
  {
   "cell_type": "code",
   "execution_count": null,
   "metadata": {},
   "outputs": [],
   "source": [
    "a2[2][0] = 2\n",
    "print(a2)"
   ]
  },
  {
   "cell_type": "markdown",
   "metadata": {},
   "source": [
    "### Concatenando arrays:\n",
    "https://numpy.org/doc/stable/reference/generated/numpy.concatenate.html"
   ]
  },
  {
   "cell_type": "code",
   "execution_count": null,
   "metadata": {},
   "outputs": [],
   "source": [
    "a = np.array( [1, 2, 3])\n",
    "b = np.array( [4, 5, 6])\n",
    "\n",
    "c=np.concatenate((a,b))\n",
    "d=np.concatenate((b,a))\n",
    "\n",
    "print(c)\n",
    "print(d)\n"
   ]
  },
  {
   "cell_type": "markdown",
   "metadata": {},
   "source": [
    "### Consultando itens de uma array:\n",
    "https://numpy.org/doc/stable/user/absolute_beginners.html#indexing-and-slicing"
   ]
  },
  {
   "cell_type": "code",
   "execution_count": null,
   "metadata": {},
   "outputs": [],
   "source": [
    "a = np.array([[1 , 2, 3, 4], [5, 6, 7, 8], [9, 10, 11, 12]])\n",
    "print(a)\n",
    "print('------------')\n",
    "print(a[a<8])"
   ]
  },
  {
   "cell_type": "markdown",
   "metadata": {},
   "source": [
    "### Operações com Arrays:\n",
    "Soma : https://numpy.org/doc/stable/reference/generated/numpy.sum.html#numpy.sum <br>\n",
    "Valor mínimo : https://numpy.org/doc/stable/reference/generated/numpy.ndarray.min.html<br>\n",
    "Valor máximo : https://numpy.org/doc/stable/reference/generated/numpy.ndarray.max.html<br>\n",
    "Média : https://numpy.org/doc/stable/reference/generated/numpy.ndarray.mean.html"
   ]
  },
  {
   "cell_type": "code",
   "execution_count": null,
   "metadata": {},
   "outputs": [],
   "source": [
    "a = np.array( [1, 2, 3])\n",
    "\n",
    "print(a.max())\n",
    "print(a.min())\n",
    "print(a.mean())\n",
    "print(a.sum())\n"
   ]
  },
  {
   "cell_type": "markdown",
   "metadata": {},
   "source": [
    "### Gerando amostras aleatórias:\n"
   ]
  },
  {
   "cell_type": "code",
   "execution_count": null,
   "metadata": {},
   "outputs": [],
   "source": [
    "from numpy.random import default_rng"
   ]
  },
  {
   "cell_type": "code",
   "execution_count": null,
   "metadata": {},
   "outputs": [],
   "source": [
    "rng= default_rng()\n",
    "aleatorio = rng.integers(10, size=(2,4))\n",
    "print(aleatorio)"
   ]
  },
  {
   "cell_type": "markdown",
   "metadata": {},
   "source": [
    "## Diferença entre Arrays e Listas:"
   ]
  },
  {
   "cell_type": "code",
   "execution_count": null,
   "metadata": {},
   "outputs": [],
   "source": [
    "a = np.array([1,3,4,5,6,5,7,8])\n",
    "print(\"Essa é o array 'a':\",a)\n",
    "print(\"Esse é tipo de 'a':\",type(a))\n",
    "print('-------------------------------------')\n",
    "lista_a=[1,3,4,5,6,5,7,8]\n",
    "print(\"Essa é a 'lista_a':\", lista_a)\n",
    "print(\"Esse é tipo de 'lista_a':\",type(lista_a))"
   ]
  },
  {
   "cell_type": "code",
   "execution_count": null,
   "metadata": {},
   "outputs": [],
   "source": [
    "#arrays não permitem tipos de dados distintos:\n",
    "a = np.array([1,'Daniel',2,3,4,5,6,7,8])\n",
    "print(a)\n",
    "print(type(a[0]))"
   ]
  },
  {
   "cell_type": "code",
   "execution_count": null,
   "metadata": {},
   "outputs": [],
   "source": [
    "#já as listas sim:\n",
    "lista_a = [1,'Daniel',2,3,4,5,6,7,8]\n",
    "print(a)\n",
    "print(type(lista_a[0]))"
   ]
  },
  {
   "cell_type": "markdown",
   "metadata": {},
   "source": [
    "## Comparando o processamento:"
   ]
  },
  {
   "cell_type": "code",
   "execution_count": null,
   "metadata": {},
   "outputs": [],
   "source": [
    "from time import process_time\n",
    "lista_a = list(rng.integers(10, 100, 10000000))\n",
    "print(type(lista_a))\n",
    "lista_b = list(rng.integers(10, 100, 10000000))\n",
    "c = lista_a*lista_b\n"
   ]
  },
  {
   "cell_type": "code",
   "execution_count": null,
   "metadata": {},
   "outputs": [],
   "source": [
    "print(type(lista_a))\n",
    "print(len(lista_a))"
   ]
  },
  {
   "cell_type": "code",
   "execution_count": null,
   "metadata": {},
   "outputs": [],
   "source": [
    "c=[]\n",
    "t1 = process_time()\n",
    "for i in range(len(lista_a)):\n",
    "    c.append(lista_a[i] * lista_b[i])\n",
    "t2 = process_time()\n",
    "\n",
    "print(t2-t1)\n"
   ]
  },
  {
   "cell_type": "code",
   "execution_count": null,
   "metadata": {},
   "outputs": [],
   "source": [
    "a = rng.integers(10, 100, 10000000)\n",
    "b = rng.integers(10, 100, 10000000)\n",
    "print(type(a))\n",
    "print(a)\n",
    "t1a=process_time()\n",
    "c=a*b\n",
    "t2a=process_time()\n",
    "print(t2a-t1a)"
   ]
  },
  {
   "cell_type": "code",
   "execution_count": null,
   "metadata": {},
   "outputs": [],
   "source": [
    "import matplotlib.pyplot as plt\n",
    "\n",
    "dados_x = rng.integers(20, size = 30)\n",
    "dados_y = rng.integers(12, size = 30)\n",
    "\n",
    "plt.scatter(x = dados_x, y = dados_y)\n",
    "plt.show()\n"
   ]
  }
 ],
 "metadata": {
  "kernelspec": {
   "display_name": ".venv",
   "language": "python",
   "name": "python3"
  },
  "language_info": {
   "codemirror_mode": {
    "name": "ipython",
    "version": 3
   },
   "file_extension": ".py",
   "mimetype": "text/x-python",
   "name": "python",
   "nbconvert_exporter": "python",
   "pygments_lexer": "ipython3",
   "version": "3.13.1"
  }
 },
 "nbformat": 4,
 "nbformat_minor": 4
}
