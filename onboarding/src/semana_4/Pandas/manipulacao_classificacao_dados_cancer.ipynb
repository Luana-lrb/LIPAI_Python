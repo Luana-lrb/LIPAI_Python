{
 "cells": [
  {
   "cell_type": "markdown",
   "id": "1b815b86",
   "metadata": {},
   "source": [
    "## **Manipulando dados com Pandas**"
   ]
  },
  {
   "cell_type": "markdown",
   "id": "19d812e0",
   "metadata": {},
   "source": [
    "Importando pandas:"
   ]
  },
  {
   "cell_type": "code",
   "execution_count": 41,
   "id": "0256114b",
   "metadata": {},
   "outputs": [],
   "source": [
    "import pandas as pd"
   ]
  },
  {
   "cell_type": "markdown",
   "id": "413b8219",
   "metadata": {},
   "source": [
    "Carregando dados:"
   ]
  },
  {
   "cell_type": "code",
   "execution_count": null,
   "id": "47d2c3c8",
   "metadata": {},
   "outputs": [],
   "source": [
    "data = pd.read_csv(\"/UFU/IC/onboarding/src/semana_4/classification_results_trial_0001.csv\", sep=',')\n"
   ]
  },
  {
   "cell_type": "code",
   "execution_count": 54,
   "id": "1368e9c7",
   "metadata": {},
   "outputs": [
    {
     "data": {
      "text/html": [
       "<div>\n",
       "<style scoped>\n",
       "    .dataframe tbody tr th:only-of-type {\n",
       "        vertical-align: middle;\n",
       "    }\n",
       "\n",
       "    .dataframe tbody tr th {\n",
       "        vertical-align: top;\n",
       "    }\n",
       "\n",
       "    .dataframe thead th {\n",
       "        text-align: right;\n",
       "    }\n",
       "</style>\n",
       "<table border=\"1\" class=\"dataframe\">\n",
       "  <thead>\n",
       "    <tr style=\"text-align: right;\">\n",
       "      <th></th>\n",
       "      <th>image_path</th>\n",
       "      <th>real_class</th>\n",
       "      <th>predicted_class</th>\n",
       "      <th>prob_benign</th>\n",
       "      <th>prob_malign</th>\n",
       "    </tr>\n",
       "  </thead>\n",
       "  <tbody>\n",
       "    <tr>\n",
       "      <th>0</th>\n",
       "      <td>image_001.jpg</td>\n",
       "      <td>malign</td>\n",
       "      <td>malign</td>\n",
       "      <td>0.031429</td>\n",
       "      <td>0.968571</td>\n",
       "    </tr>\n",
       "    <tr>\n",
       "      <th>1</th>\n",
       "      <td>image_002.jpg</td>\n",
       "      <td>benign</td>\n",
       "      <td>benign</td>\n",
       "      <td>0.636410</td>\n",
       "      <td>0.363590</td>\n",
       "    </tr>\n",
       "    <tr>\n",
       "      <th>2</th>\n",
       "      <td>image_003.jpg</td>\n",
       "      <td>malign</td>\n",
       "      <td>malign</td>\n",
       "      <td>0.314356</td>\n",
       "      <td>0.685644</td>\n",
       "    </tr>\n",
       "    <tr>\n",
       "      <th>3</th>\n",
       "      <td>image_004.jpg</td>\n",
       "      <td>benign</td>\n",
       "      <td>benign</td>\n",
       "      <td>0.508571</td>\n",
       "      <td>0.491429</td>\n",
       "    </tr>\n",
       "    <tr>\n",
       "      <th>4</th>\n",
       "      <td>image_005.jpg</td>\n",
       "      <td>benign</td>\n",
       "      <td>benign</td>\n",
       "      <td>0.907566</td>\n",
       "      <td>0.092434</td>\n",
       "    </tr>\n",
       "    <tr>\n",
       "      <th>...</th>\n",
       "      <td>...</td>\n",
       "      <td>...</td>\n",
       "      <td>...</td>\n",
       "      <td>...</td>\n",
       "      <td>...</td>\n",
       "    </tr>\n",
       "    <tr>\n",
       "      <th>95</th>\n",
       "      <td>image_096.jpg</td>\n",
       "      <td>malign</td>\n",
       "      <td>malign</td>\n",
       "      <td>0.349210</td>\n",
       "      <td>0.650790</td>\n",
       "    </tr>\n",
       "    <tr>\n",
       "      <th>96</th>\n",
       "      <td>image_097.jpg</td>\n",
       "      <td>benign</td>\n",
       "      <td>benign</td>\n",
       "      <td>0.725956</td>\n",
       "      <td>0.274044</td>\n",
       "    </tr>\n",
       "    <tr>\n",
       "      <th>97</th>\n",
       "      <td>image_098.jpg</td>\n",
       "      <td>benign</td>\n",
       "      <td>benign</td>\n",
       "      <td>0.897110</td>\n",
       "      <td>0.102890</td>\n",
       "    </tr>\n",
       "    <tr>\n",
       "      <th>98</th>\n",
       "      <td>image_099.jpg</td>\n",
       "      <td>benign</td>\n",
       "      <td>benign</td>\n",
       "      <td>0.887086</td>\n",
       "      <td>0.112914</td>\n",
       "    </tr>\n",
       "    <tr>\n",
       "      <th>99</th>\n",
       "      <td>image_100.jpg</td>\n",
       "      <td>benign</td>\n",
       "      <td>benign</td>\n",
       "      <td>0.779876</td>\n",
       "      <td>0.220124</td>\n",
       "    </tr>\n",
       "  </tbody>\n",
       "</table>\n",
       "<p>100 rows × 5 columns</p>\n",
       "</div>"
      ],
      "text/plain": [
       "       image_path real_class predicted_class  prob_benign  prob_malign\n",
       "0   image_001.jpg     malign          malign     0.031429     0.968571\n",
       "1   image_002.jpg     benign          benign     0.636410     0.363590\n",
       "2   image_003.jpg     malign          malign     0.314356     0.685644\n",
       "3   image_004.jpg     benign          benign     0.508571     0.491429\n",
       "4   image_005.jpg     benign          benign     0.907566     0.092434\n",
       "..            ...        ...             ...          ...          ...\n",
       "95  image_096.jpg     malign          malign     0.349210     0.650790\n",
       "96  image_097.jpg     benign          benign     0.725956     0.274044\n",
       "97  image_098.jpg     benign          benign     0.897110     0.102890\n",
       "98  image_099.jpg     benign          benign     0.887086     0.112914\n",
       "99  image_100.jpg     benign          benign     0.779876     0.220124\n",
       "\n",
       "[100 rows x 5 columns]"
      ]
     },
     "execution_count": 54,
     "metadata": {},
     "output_type": "execute_result"
    }
   ],
   "source": [
    "data"
   ]
  },
  {
   "cell_type": "markdown",
   "id": "995fd7ea",
   "metadata": {},
   "source": [
    "1. Quantas imagens do conjunto são \"benigno\" e \"maligno\"?"
   ]
  },
  {
   "cell_type": "code",
   "execution_count": 55,
   "id": "567fddb9",
   "metadata": {},
   "outputs": [],
   "source": [
    "contagem = data['real_class'].value_counts()"
   ]
  },
  {
   "cell_type": "code",
   "execution_count": 56,
   "id": "81f1f997",
   "metadata": {},
   "outputs": [
    {
     "name": "stdout",
     "output_type": "stream",
     "text": [
      "real_class\n",
      "malign    55\n",
      "benign    45\n",
      "Name: count, dtype: int64\n"
     ]
    }
   ],
   "source": [
    "print(contagem)"
   ]
  },
  {
   "cell_type": "markdown",
   "id": "478c8434",
   "metadata": {},
   "source": [
    "2. Identifique em quais imagens o modelo errou a predição"
   ]
  },
  {
   "cell_type": "code",
   "execution_count": 57,
   "id": "59d8d3d0",
   "metadata": {},
   "outputs": [],
   "source": [
    "errou = data[data['real_class'] != data['predicted_class']]"
   ]
  },
  {
   "cell_type": "code",
   "execution_count": 58,
   "id": "5fb0ed73",
   "metadata": {},
   "outputs": [
    {
     "name": "stdout",
     "output_type": "stream",
     "text": [
      "       image_path real_class predicted_class  prob_benign  prob_malign\n",
      "20  image_021.jpg     malign          benign     0.807440     0.192560\n",
      "26  image_027.jpg     malign          benign     0.818015     0.181985\n",
      "27  image_028.jpg     malign          benign     0.860731     0.139269\n",
      "41  image_042.jpg     benign          malign     0.251782     0.748218\n",
      "46  image_047.jpg     malign          benign     0.609564     0.390436\n",
      "65  image_066.jpg     malign          benign     0.835302     0.164698\n",
      "67  image_068.jpg     benign          malign     0.186519     0.813481\n",
      "69  image_070.jpg     malign          benign     0.590893     0.409107\n",
      "70  image_071.jpg     malign          benign     0.677564     0.322436\n",
      "76  image_077.jpg     malign          benign     0.690938     0.309062\n",
      "80  image_081.jpg     benign          malign     0.341066     0.658934\n",
      "91  image_092.jpg     malign          benign     0.897216     0.102784\n"
     ]
    }
   ],
   "source": [
    "print(errou)"
   ]
  },
  {
   "cell_type": "markdown",
   "id": "878610f5",
   "metadata": {},
   "source": [
    "3. Verifique se o modelo estava confiante mesmo quando errou a predição"
   ]
  },
  {
   "cell_type": "code",
   "execution_count": 8,
   "id": "ace06295",
   "metadata": {},
   "outputs": [
    {
     "name": "stderr",
     "output_type": "stream",
     "text": [
      "C:\\Users\\Samsung\\AppData\\Local\\Temp\\ipykernel_23548\\2744505952.py:1: SettingWithCopyWarning: \n",
      "A value is trying to be set on a copy of a slice from a DataFrame.\n",
      "Try using .loc[row_indexer,col_indexer] = value instead\n",
      "\n",
      "See the caveats in the documentation: https://pandas.pydata.org/pandas-docs/stable/user_guide/indexing.html#returning-a-view-versus-a-copy\n",
      "  errou['confianca'] = errou[['prob_benign', 'prob_malign']].max(axis=1)\n"
     ]
    }
   ],
   "source": [
    "errou['confianca'] = errou[['prob_benign', 'prob_malign']].max(axis=1)"
   ]
  },
  {
   "cell_type": "code",
   "execution_count": 9,
   "id": "6e7212a1",
   "metadata": {},
   "outputs": [
    {
     "name": "stdout",
     "output_type": "stream",
     "text": [
      "       image_path real_class predicted_class  confianca\n",
      "20  image_021.jpg     malign          benign   0.807440\n",
      "26  image_027.jpg     malign          benign   0.818015\n",
      "27  image_028.jpg     malign          benign   0.860731\n",
      "41  image_042.jpg     benign          malign   0.748218\n",
      "46  image_047.jpg     malign          benign   0.609564\n",
      "65  image_066.jpg     malign          benign   0.835302\n",
      "67  image_068.jpg     benign          malign   0.813481\n",
      "69  image_070.jpg     malign          benign   0.590893\n",
      "70  image_071.jpg     malign          benign   0.677564\n",
      "76  image_077.jpg     malign          benign   0.690938\n",
      "80  image_081.jpg     benign          malign   0.658934\n",
      "91  image_092.jpg     malign          benign   0.897216\n"
     ]
    }
   ],
   "source": [
    "print(errou[['image_path', 'real_class', 'predicted_class', 'confianca']])"
   ]
  },
  {
   "cell_type": "markdown",
   "id": "e83a6207",
   "metadata": {},
   "source": [
    "4. Calcule:\n",
    "    1. Verdadeiros Positivos (TP) - real maligno, previsto maligno."
   ]
  },
  {
   "cell_type": "code",
   "execution_count": 21,
   "id": "9984afcd",
   "metadata": {},
   "outputs": [
    {
     "name": "stdout",
     "output_type": "stream",
     "text": [
      "       image_path real_class predicted_class  prob_benign  prob_malign\n",
      "0   image_001.jpg     malign          malign     0.031429     0.968571\n",
      "2   image_003.jpg     malign          malign     0.314356     0.685644\n",
      "5   image_006.jpg     malign          malign     0.249292     0.750708\n",
      "6   image_007.jpg     malign          malign     0.410383     0.589617\n",
      "8   image_009.jpg     malign          malign     0.228798     0.771202\n",
      "9   image_010.jpg     malign          malign     0.076980     0.923020\n",
      "10  image_011.jpg     malign          malign     0.289751     0.710249\n",
      "11  image_012.jpg     malign          malign     0.161221     0.838779\n",
      "17  image_018.jpg     malign          malign     0.186570     0.813430\n",
      "22  image_023.jpg     malign          malign     0.318003     0.681997\n",
      "23  image_024.jpg     malign          malign     0.110052     0.889948\n",
      "24  image_025.jpg     malign          malign     0.227935     0.772065\n",
      "25  image_026.jpg     malign          malign     0.427108     0.572892\n",
      "28  image_029.jpg     malign          malign     0.006952     0.993048\n",
      "30  image_031.jpg     malign          malign     0.417411     0.582589\n",
      "31  image_032.jpg     malign          malign     0.222108     0.777892\n",
      "32  image_033.jpg     malign          malign     0.119865     0.880135\n",
      "33  image_034.jpg     malign          malign     0.337615     0.662385\n",
      "35  image_036.jpg     malign          malign     0.323203     0.676797\n",
      "38  image_039.jpg     malign          malign     0.363630     0.636370\n",
      "42  image_043.jpg     malign          malign     0.497249     0.502751\n",
      "43  image_044.jpg     malign          malign     0.300878     0.699122\n",
      "44  image_045.jpg     malign          malign     0.284840     0.715160\n",
      "45  image_046.jpg     malign          malign     0.036887     0.963113\n",
      "48  image_049.jpg     malign          malign     0.051479     0.948521\n",
      "49  image_050.jpg     malign          malign     0.278646     0.721354\n",
      "51  image_052.jpg     malign          malign     0.239562     0.760438\n",
      "52  image_053.jpg     malign          malign     0.144895     0.855105\n",
      "53  image_054.jpg     malign          malign     0.489453     0.510547\n",
      "55  image_056.jpg     malign          malign     0.242055     0.757945\n",
      "58  image_059.jpg     malign          malign     0.237638     0.762362\n",
      "60  image_061.jpg     malign          malign     0.367783     0.632217\n",
      "64  image_065.jpg     malign          malign     0.090290     0.909710\n",
      "66  image_067.jpg     malign          malign     0.320780     0.679220\n",
      "68  image_069.jpg     malign          malign     0.040775     0.959225\n",
      "71  image_072.jpg     malign          malign     0.016588     0.983412\n",
      "73  image_074.jpg     malign          malign     0.226496     0.773504\n",
      "75  image_076.jpg     malign          malign     0.174366     0.825634\n",
      "77  image_078.jpg     malign          malign     0.386735     0.613265\n",
      "79  image_080.jpg     malign          malign     0.137521     0.862479\n",
      "81  image_082.jpg     malign          malign     0.113474     0.886526\n",
      "84  image_085.jpg     malign          malign     0.257942     0.742058\n",
      "89  image_090.jpg     malign          malign     0.241852     0.758148\n",
      "90  image_091.jpg     malign          malign     0.093103     0.906897\n",
      "94  image_095.jpg     malign          malign     0.339030     0.660970\n",
      "95  image_096.jpg     malign          malign     0.349210     0.650790\n"
     ]
    }
   ],
   "source": [
    "selecao = data[data['real_class'] == 'malign']\n",
    "true_positive = selecao[selecao['predicted_class'] == 'malign']\n",
    "print(true_positive)"
   ]
  },
  {
   "cell_type": "markdown",
   "id": "2d6d4d39",
   "metadata": {},
   "source": [
    "\n",
    "2. Verdadeiros Negativos (TN) - real benigno, previso benigno.\n"
   ]
  },
  {
   "cell_type": "code",
   "execution_count": 22,
   "id": "f57d1154",
   "metadata": {},
   "outputs": [
    {
     "name": "stdout",
     "output_type": "stream",
     "text": [
      "       image_path real_class predicted_class  prob_benign  prob_malign\n",
      "1   image_002.jpg     benign          benign     0.636410     0.363590\n",
      "3   image_004.jpg     benign          benign     0.508571     0.491429\n",
      "4   image_005.jpg     benign          benign     0.907566     0.092434\n",
      "7   image_008.jpg     benign          benign     0.755551     0.244449\n",
      "12  image_013.jpg     benign          benign     0.929698     0.070302\n",
      "13  image_014.jpg     benign          benign     0.808120     0.191880\n",
      "14  image_015.jpg     benign          benign     0.633404     0.366596\n",
      "15  image_016.jpg     benign          benign     0.871461     0.128539\n",
      "16  image_017.jpg     benign          benign     0.803672     0.196328\n",
      "18  image_019.jpg     benign          benign     0.892559     0.107441\n",
      "19  image_020.jpg     benign          benign     0.539342     0.460658\n",
      "21  image_022.jpg     benign          benign     0.896091     0.103909\n",
      "29  image_030.jpg     benign          benign     0.510747     0.489253\n",
      "34  image_035.jpg     benign          benign     0.942910     0.057090\n",
      "36  image_037.jpg     benign          benign     0.518791     0.481209\n",
      "37  image_038.jpg     benign          benign     0.703019     0.296981\n",
      "39  image_040.jpg     benign          benign     0.971782     0.028218\n",
      "40  image_041.jpg     benign          benign     0.962447     0.037553\n",
      "47  image_048.jpg     benign          benign     0.502679     0.497321\n",
      "50  image_051.jpg     benign          benign     0.908266     0.091734\n",
      "54  image_055.jpg     benign          benign     0.985650     0.014350\n",
      "56  image_057.jpg     benign          benign     0.672136     0.327864\n",
      "57  image_058.jpg     benign          benign     0.761620     0.238380\n",
      "59  image_060.jpg     benign          benign     0.728216     0.271784\n",
      "61  image_062.jpg     benign          benign     0.632306     0.367694\n",
      "62  image_063.jpg     benign          benign     0.633530     0.366470\n",
      "63  image_064.jpg     benign          benign     0.535775     0.464225\n",
      "72  image_073.jpg     benign          benign     0.512093     0.487907\n",
      "74  image_075.jpg     benign          benign     0.645173     0.354827\n",
      "78  image_079.jpg     benign          benign     0.936730     0.063270\n",
      "82  image_083.jpg     benign          benign     0.924694     0.075306\n",
      "83  image_084.jpg     benign          benign     0.877339     0.122661\n",
      "85  image_086.jpg     benign          benign     0.659984     0.340016\n",
      "86  image_087.jpg     benign          benign     0.817222     0.182778\n",
      "87  image_088.jpg     benign          benign     0.555201     0.444799\n",
      "88  image_089.jpg     benign          benign     0.529651     0.470349\n",
      "92  image_093.jpg     benign          benign     0.900418     0.099582\n",
      "93  image_094.jpg     benign          benign     0.633101     0.366899\n",
      "96  image_097.jpg     benign          benign     0.725956     0.274044\n",
      "97  image_098.jpg     benign          benign     0.897110     0.102890\n",
      "98  image_099.jpg     benign          benign     0.887086     0.112914\n",
      "99  image_100.jpg     benign          benign     0.779876     0.220124\n"
     ]
    }
   ],
   "source": [
    "selecao1 = data[data['real_class'] == 'benign']\n",
    "true_negative = selecao1[selecao1['predicted_class'] == 'benign']\n",
    "print(true_negative)"
   ]
  },
  {
   "cell_type": "markdown",
   "id": "94cfb194",
   "metadata": {},
   "source": [
    "\n",
    "    3. Falsos Positivos (FP) - real benigno, previsto maligno.\n"
   ]
  },
  {
   "cell_type": "code",
   "execution_count": 23,
   "id": "13cedc1b",
   "metadata": {},
   "outputs": [
    {
     "name": "stdout",
     "output_type": "stream",
     "text": [
      "       image_path real_class predicted_class  prob_benign  prob_malign\n",
      "41  image_042.jpg     benign          malign     0.251782     0.748218\n",
      "67  image_068.jpg     benign          malign     0.186519     0.813481\n",
      "80  image_081.jpg     benign          malign     0.341066     0.658934\n"
     ]
    }
   ],
   "source": [
    "selecao2 = data[data['real_class'] == 'benign']\n",
    "false_positive = selecao2[selecao2['predicted_class'] == 'malign']\n",
    "print(false_positive)"
   ]
  },
  {
   "cell_type": "markdown",
   "id": "fa4e1844",
   "metadata": {},
   "source": [
    "    \n",
    "    4. Falsos Negativos (FN) - real maligno, previsto benigno."
   ]
  },
  {
   "cell_type": "code",
   "execution_count": 24,
   "id": "3ce844bb",
   "metadata": {},
   "outputs": [
    {
     "name": "stdout",
     "output_type": "stream",
     "text": [
      "       image_path real_class predicted_class  prob_benign  prob_malign\n",
      "20  image_021.jpg     malign          benign     0.807440     0.192560\n",
      "26  image_027.jpg     malign          benign     0.818015     0.181985\n",
      "27  image_028.jpg     malign          benign     0.860731     0.139269\n",
      "46  image_047.jpg     malign          benign     0.609564     0.390436\n",
      "65  image_066.jpg     malign          benign     0.835302     0.164698\n",
      "69  image_070.jpg     malign          benign     0.590893     0.409107\n",
      "70  image_071.jpg     malign          benign     0.677564     0.322436\n",
      "76  image_077.jpg     malign          benign     0.690938     0.309062\n",
      "91  image_092.jpg     malign          benign     0.897216     0.102784\n"
     ]
    }
   ],
   "source": [
    "selecao4 = data[data['real_class'] == 'malign']\n",
    "false_negative = selecao4[selecao4['predicted_class'] == 'benign']\n",
    "print(false_negative)"
   ]
  },
  {
   "cell_type": "markdown",
   "id": "435fcaa8",
   "metadata": {},
   "source": [
    "5. Calcule: "
   ]
  },
  {
   "cell_type": "code",
   "execution_count": 25,
   "id": "6c550d9b",
   "metadata": {},
   "outputs": [],
   "source": [
    "tp = len(true_positive)  \n",
    "tn = len(true_negative)  \n",
    "fp = len(false_positive)  \n",
    "fn= len(false_negative)"
   ]
  },
  {
   "cell_type": "markdown",
   "id": "483c114b",
   "metadata": {},
   "source": [
    "    a. Acurácia: (TP+TN)/(TP+TN+FP+FN)"
   ]
  },
  {
   "cell_type": "code",
   "execution_count": 28,
   "id": "205bd29a",
   "metadata": {},
   "outputs": [
    {
     "name": "stdout",
     "output_type": "stream",
     "text": [
      "0.88\n"
     ]
    }
   ],
   "source": [
    "acuracia = (tp +tn)/(tp +tn +fp +fn)\n",
    "print(acuracia)"
   ]
  },
  {
   "cell_type": "markdown",
   "id": "065f89f6",
   "metadata": {},
   "source": [
    "    b. Precisão (Precision): TP/(TP+FP) (relevante para os casos preditos como positivos)"
   ]
  },
  {
   "cell_type": "code",
   "execution_count": 29,
   "id": "27f1cbe7",
   "metadata": {},
   "outputs": [
    {
     "name": "stdout",
     "output_type": "stream",
     "text": [
      "0.9387755102040817\n"
     ]
    }
   ],
   "source": [
    "precisao = tp / (tp + fp)\n",
    "print(precisao)"
   ]
  },
  {
   "cell_type": "markdown",
   "id": "c050e85b",
   "metadata": {},
   "source": [
    "    c. Recall: TP/(TP+FN) (relevante para os casos reais positivos)"
   ]
  },
  {
   "cell_type": "code",
   "execution_count": 30,
   "id": "301c26f1",
   "metadata": {},
   "outputs": [
    {
     "name": "stdout",
     "output_type": "stream",
     "text": [
      "0.8363636363636363\n"
     ]
    }
   ],
   "source": [
    "recall = tp / (tp + fn)\n",
    "print(recall)"
   ]
  },
  {
   "cell_type": "markdown",
   "id": "c36e7c8b",
   "metadata": {},
   "source": [
    "    d. Especificidade: TN/(TN+FP) (relevante para os casos reais negativos)"
   ]
  },
  {
   "cell_type": "code",
   "execution_count": 31,
   "id": "3f03be32",
   "metadata": {},
   "outputs": [
    {
     "name": "stdout",
     "output_type": "stream",
     "text": [
      "0.9333333333333333\n"
     ]
    }
   ],
   "source": [
    "especificidade = tn / (tn + fp)\n",
    "print(especificidade)"
   ]
  },
  {
   "cell_type": "markdown",
   "id": "3becd6cc",
   "metadata": {},
   "source": [
    "6. Encontre as 5 imagens \"benigno\" com a menor probabilidade de serem \"benigno\" (prob_benign). O que isso pode indicar?"
   ]
  },
  {
   "cell_type": "code",
   "execution_count": 36,
   "id": "f712899b",
   "metadata": {},
   "outputs": [
    {
     "name": "stdout",
     "output_type": "stream",
     "text": [
      "       image_path real_class predicted_class  prob_benign  prob_malign\n",
      "67  image_068.jpg     benign          malign     0.186519     0.813481\n",
      "41  image_042.jpg     benign          malign     0.251782     0.748218\n",
      "80  image_081.jpg     benign          malign     0.341066     0.658934\n",
      "47  image_048.jpg     benign          benign     0.502679     0.497321\n",
      "3   image_004.jpg     benign          benign     0.508571     0.491429\n"
     ]
    }
   ],
   "source": [
    "boas = data[data['real_class'] == 'benign']\n",
    "menos_boas = boas.nsmallest(5, 'prob_benign')\n",
    "print(menos_boas)"
   ]
  },
  {
   "cell_type": "markdown",
   "id": "342ec19b",
   "metadata": {},
   "source": [
    "7. Encontre as 5 imagens \"maligno\" com a maior probabilidade de serem \"benigno\" (prob_benign). O que isso pode indicar?"
   ]
  },
  {
   "cell_type": "code",
   "execution_count": 40,
   "id": "f1743e22",
   "metadata": {},
   "outputs": [
    {
     "name": "stdout",
     "output_type": "stream",
     "text": [
      "       image_path real_class predicted_class  prob_benign  prob_malign\n",
      "91  image_092.jpg     malign          benign     0.897216     0.102784\n",
      "27  image_028.jpg     malign          benign     0.860731     0.139269\n",
      "65  image_066.jpg     malign          benign     0.835302     0.164698\n",
      "26  image_027.jpg     malign          benign     0.818015     0.181985\n",
      "20  image_021.jpg     malign          benign     0.807440     0.192560\n"
     ]
    }
   ],
   "source": [
    "mas = data[data['real_class'] == 'malign']\n",
    "mais_ruins = mas.nlargest(5, 'prob_benign')\n",
    "print(mais_ruins)"
   ]
  }
 ],
 "metadata": {
  "kernelspec": {
   "display_name": ".venv",
   "language": "python",
   "name": "python3"
  },
  "language_info": {
   "codemirror_mode": {
    "name": "ipython",
    "version": 3
   },
   "file_extension": ".py",
   "mimetype": "text/x-python",
   "name": "python",
   "nbconvert_exporter": "python",
   "pygments_lexer": "ipython3",
   "version": "3.13.1"
  }
 },
 "nbformat": 4,
 "nbformat_minor": 5
}
