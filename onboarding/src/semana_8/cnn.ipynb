{
  "nbformat": 4,
  "nbformat_minor": 0,
  "metadata": {
    "colab": {
      "provenance": [],
      "gpuType": "T4",
      "authorship_tag": "ABX9TyN5ZIn0atI5tGGqWVrl7o1z",
      "include_colab_link": true
    },
    "kernelspec": {
      "name": "python3",
      "display_name": "Python 3"
    },
    "language_info": {
      "name": "python"
    },
    "accelerator": "GPU"
  },
  "cells": [
    {
      "cell_type": "markdown",
      "metadata": {
        "id": "view-in-github",
        "colab_type": "text"
      },
      "source": [
        "<a href=\"https://colab.research.google.com/github/Luana-lrb/LIPAI_Python/blob/main/onboarding/src/semana_8/cnn.ipynb\" target=\"_parent\"><img src=\"https://colab.research.google.com/assets/colab-badge.svg\" alt=\"Open In Colab\"/></a>"
      ]
    },
    {
      "cell_type": "markdown",
      "source": [
        "# **Redes Neurais Convolucinais com PyTorch**"
      ],
      "metadata": {
        "id": "npKK76RIJeuL"
      }
    },
    {
      "cell_type": "markdown",
      "source": [
        "### Como base foi utilizado o trabalho dos Profs. Storopoli & Souza disponível no Google Colab:\n",
        "https://colab.research.google.com/github/storopoli/ciencia-de-dados/blob/main/notebooks/Aula_19_Redes_Neurais_Convolucionais_com_PyTorch.ipynb#scrollTo=oR24U2WYKVrw\n"
      ],
      "metadata": {
        "id": "WJhg_QXeJ2EE"
      }
    },
    {
      "cell_type": "markdown",
      "source": [
        "Importando bibliotecas necessárias:"
      ],
      "metadata": {
        "id": "jffzPlybJvgw"
      }
    },
    {
      "cell_type": "code",
      "execution_count": null,
      "metadata": {
        "id": "jXgy82vKJYi7"
      },
      "outputs": [],
      "source": [
        "import torch\n",
        "import torch.nn as nn\n",
        "from torch.optim import Adam\n",
        "from torch.utils.data import DataLoader\n",
        "import torchvision\n",
        "from torchvision import transforms"
      ]
    },
    {
      "cell_type": "markdown",
      "source": [
        "1) Device: usa GPU se disponível"
      ],
      "metadata": {
        "id": "PNd9NlVxKaQp"
      }
    },
    {
      "cell_type": "code",
      "source": [
        "device = torch.device(\"cuda\" if torch.cuda.is_available() else \"cpu\")\n",
        "print(\"Treinando em:\", device)\n",
        "if device.type == \"cuda\":\n",
        "    print(\"GPU:\", torch.cuda.get_device_name(0))"
      ],
      "metadata": {
        "colab": {
          "base_uri": "https://localhost:8080/"
        },
        "id": "4A9FbwiZKgEz",
        "outputId": "8837bbd6-41d6-4e5c-eba2-3f3ba09efd14"
      },
      "execution_count": null,
      "outputs": [
        {
          "output_type": "stream",
          "name": "stdout",
          "text": [
            "Treinando em: cuda\n",
            "GPU: Tesla T4\n"
          ]
        }
      ]
    },
    {
      "cell_type": "markdown",
      "source": [
        "Transform e datasets:"
      ],
      "metadata": {
        "id": "bVfv_MmyKtJo"
      }
    },
    {
      "cell_type": "code",
      "source": [
        "trans = transforms.Compose([\n",
        "    transforms.ToTensor(),\n",
        "    transforms.Normalize((0.1307,), (0.3081,))\n",
        "])\n",
        "\n",
        "root_path = '/home/storopoli/Downloads'  # Está funcionando assim\n",
        "train_dataset = torchvision.datasets.MNIST(root=root_path, train=True, transform=trans, download=True)\n",
        "test_dataset  = torchvision.datasets.MNIST(root=root_path, train=False, transform=trans)\n"
      ],
      "metadata": {
        "colab": {
          "base_uri": "https://localhost:8080/"
        },
        "id": "DU1mPxEoKxeH",
        "outputId": "2a57b508-c48c-4af2-9d4a-3227faf562ac"
      },
      "execution_count": null,
      "outputs": [
        {
          "output_type": "stream",
          "name": "stderr",
          "text": [
            "100%|██████████| 9.91M/9.91M [00:00<00:00, 20.9MB/s]\n",
            "100%|██████████| 28.9k/28.9k [00:00<00:00, 490kB/s]\n",
            "100%|██████████| 1.65M/1.65M [00:00<00:00, 4.73MB/s]\n",
            "100%|██████████| 4.54k/4.54k [00:00<00:00, 11.8MB/s]\n"
          ]
        }
      ]
    },
    {
      "cell_type": "markdown",
      "source": [
        "DataLoaders: use pin_memory quando usar GPU para acelerar cópias"
      ],
      "metadata": {
        "id": "Av8hxU9uK9LE"
      }
    },
    {
      "cell_type": "code",
      "source": [
        "batch_size = 32\n",
        "num_workers = 0  # ajuste conforme sua máquina; no Windows usar 0 às vezes\n",
        "pin_memory = True if device.type == \"cuda\" else False\n",
        "\n",
        "train_loader = DataLoader(train_dataset, batch_size=batch_size, shuffle=True,\n",
        "                          num_workers=num_workers, pin_memory=pin_memory)\n",
        "test_loader  = DataLoader(test_dataset,  batch_size=batch_size, shuffle=False,\n",
        "                          num_workers=num_workers, pin_memory=pin_memory)\n"
      ],
      "metadata": {
        "id": "erUyY3vfLEXI"
      },
      "execution_count": 5,
      "outputs": []
    },
    {
      "cell_type": "markdown",
      "source": [
        "Modelo"
      ],
      "metadata": {
        "id": "IXqz1qcYLJcF"
      }
    },
    {
      "cell_type": "code",
      "source": [
        "class ConvNet(nn.Module):\n",
        "    def __init__(self):\n",
        "        super(ConvNet, self).__init__()\n",
        "        self.layer1 = nn.Sequential(\n",
        "            nn.Conv2d(1, 32, kernel_size=5, stride=1, padding=2),\n",
        "            nn.ReLU(),\n",
        "            nn.MaxPool2d(kernel_size=2, stride=2)\n",
        "        )\n",
        "        self.layer2 = nn.Sequential(\n",
        "            nn.Conv2d(32, 64, kernel_size=5, stride=1, padding=2),\n",
        "            nn.ReLU(),\n",
        "            nn.MaxPool2d(kernel_size=2, stride=2)\n",
        "        )\n",
        "        self.fc1 = nn.Sequential(\n",
        "            nn.Linear(7 * 7 * 64, 1000),\n",
        "            nn.ReLU()\n",
        "        )\n",
        "        self.fc2 = nn.Linear(1000, 10)\n",
        "\n",
        "    def forward(self, x):\n",
        "        out = self.layer1(x)\n",
        "        out = self.layer2(out)\n",
        "        out = out.reshape(out.size(0), -1)\n",
        "        out = self.fc1(out)\n",
        "        out = self.fc2(out)\n",
        "        return out"
      ],
      "metadata": {
        "id": "yVv8n4ZRLRm_"
      },
      "execution_count": 6,
      "outputs": []
    },
    {
      "cell_type": "markdown",
      "source": [
        "Instancia e move o modelo para device ANTES de criar o otimizador"
      ],
      "metadata": {
        "id": "_0Ca5vQfLX73"
      }
    },
    {
      "cell_type": "code",
      "source": [
        "model = ConvNet().to(device)\n",
        "print(model)\n",
        "def count_parameters(model):\n",
        "    return sum(p.numel() for p in model.parameters() if p.requires_grad)\n",
        "print(\"Parâmetros treináveis:\", count_parameters(model))"
      ],
      "metadata": {
        "id": "pFTeJyG6LYKz",
        "colab": {
          "base_uri": "https://localhost:8080/"
        },
        "outputId": "e2526fe8-ec32-400b-d33f-3c3fd7c69e81"
      },
      "execution_count": 7,
      "outputs": [
        {
          "output_type": "stream",
          "name": "stdout",
          "text": [
            "ConvNet(\n",
            "  (layer1): Sequential(\n",
            "    (0): Conv2d(1, 32, kernel_size=(5, 5), stride=(1, 1), padding=(2, 2))\n",
            "    (1): ReLU()\n",
            "    (2): MaxPool2d(kernel_size=2, stride=2, padding=0, dilation=1, ceil_mode=False)\n",
            "  )\n",
            "  (layer2): Sequential(\n",
            "    (0): Conv2d(32, 64, kernel_size=(5, 5), stride=(1, 1), padding=(2, 2))\n",
            "    (1): ReLU()\n",
            "    (2): MaxPool2d(kernel_size=2, stride=2, padding=0, dilation=1, ceil_mode=False)\n",
            "  )\n",
            "  (fc1): Sequential(\n",
            "    (0): Linear(in_features=3136, out_features=1000, bias=True)\n",
            "    (1): ReLU()\n",
            "  )\n",
            "  (fc2): Linear(in_features=1000, out_features=10, bias=True)\n",
            ")\n",
            "Parâmetros treináveis: 3199106\n"
          ]
        }
      ]
    },
    {
      "cell_type": "markdown",
      "source": [
        " Loss, hyperparams e otimizador (otimizador depois do model.to)"
      ],
      "metadata": {
        "id": "1qHfBG-mLgaA"
      }
    },
    {
      "cell_type": "code",
      "source": [
        "loss_fn = nn.CrossEntropyLoss()\n",
        "learning_rate = 0.001\n",
        "epochs = 6\n",
        "optimizer = Adam(model.parameters(), lr=learning_rate)\n",
        "torch.backends.cudnn.benchmark = True if device.type == \"cuda\" else False"
      ],
      "metadata": {
        "id": "DAvcH2V_LnUK"
      },
      "execution_count": 8,
      "outputs": []
    },
    {
      "cell_type": "markdown",
      "source": [
        "Loop de treino com envio explícito de tensores para device"
      ],
      "metadata": {
        "id": "jgqflG0gLwET"
      }
    },
    {
      "cell_type": "code",
      "source": [
        "total_step = len(train_loader)\n",
        "loss_list = []\n",
        "acc_list = []\n",
        "\n",
        "for epoch in range(epochs):\n",
        "    model.train()  # importante: habilita treinamento (dropout, batchnorm, etc.)\n",
        "    for i, (images, labels) in enumerate(train_loader):\n",
        "        # envia dados para a GPU/CPU\n",
        "        images = images.to(device, non_blocking=True)\n",
        "        labels = labels.to(device, non_blocking=True)\n",
        "\n",
        "        # forward\n",
        "        outputs = model(images)\n",
        "        loss = loss_fn(outputs, labels)\n",
        "        loss_list.append(loss.item())\n",
        "\n",
        "        # backward + step\n",
        "        optimizer.zero_grad()\n",
        "        loss.backward()\n",
        "        optimizer.step()\n",
        "\n",
        "        # acurácia no batch\n",
        "        total = labels.size(0)\n",
        "        predicted = outputs.argmax(dim=1)  # forma recomendada\n",
        "        correct = (predicted == labels).sum().item()\n",
        "        acc_list.append(correct / total)\n",
        "\n",
        "        if (i + 1) % 100 == 0:\n",
        "            print(f\"Época [{epoch+1}/{epochs}], Step [{i+1}/{total_step}], \"\n",
        "                  f\"Custo: {loss.item():.4f}, Acurácia(batch): {100 * (correct / total):.3f}%\")"
      ],
      "metadata": {
        "id": "ee0kVd3GLw0H",
        "colab": {
          "base_uri": "https://localhost:8080/"
        },
        "outputId": "1404c03c-7cbd-4b7f-99d4-96bd9f2be666"
      },
      "execution_count": 9,
      "outputs": [
        {
          "output_type": "stream",
          "name": "stdout",
          "text": [
            "Época [1/6], Step [100/1875], Custo: 0.2033, Acurácia(batch): 96.875%\n",
            "Época [1/6], Step [200/1875], Custo: 0.0220, Acurácia(batch): 100.000%\n",
            "Época [1/6], Step [300/1875], Custo: 0.2542, Acurácia(batch): 87.500%\n",
            "Época [1/6], Step [400/1875], Custo: 0.2974, Acurácia(batch): 93.750%\n",
            "Época [1/6], Step [500/1875], Custo: 0.2490, Acurácia(batch): 93.750%\n",
            "Época [1/6], Step [600/1875], Custo: 0.0550, Acurácia(batch): 96.875%\n",
            "Época [1/6], Step [700/1875], Custo: 0.1169, Acurácia(batch): 96.875%\n",
            "Época [1/6], Step [800/1875], Custo: 0.0509, Acurácia(batch): 96.875%\n",
            "Época [1/6], Step [900/1875], Custo: 0.0026, Acurácia(batch): 100.000%\n",
            "Época [1/6], Step [1000/1875], Custo: 0.0399, Acurácia(batch): 100.000%\n",
            "Época [1/6], Step [1100/1875], Custo: 0.0263, Acurácia(batch): 100.000%\n",
            "Época [1/6], Step [1200/1875], Custo: 0.0046, Acurácia(batch): 100.000%\n",
            "Época [1/6], Step [1300/1875], Custo: 0.0555, Acurácia(batch): 96.875%\n",
            "Época [1/6], Step [1400/1875], Custo: 0.0105, Acurácia(batch): 100.000%\n",
            "Época [1/6], Step [1500/1875], Custo: 0.0400, Acurácia(batch): 96.875%\n",
            "Época [1/6], Step [1600/1875], Custo: 0.0016, Acurácia(batch): 100.000%\n",
            "Época [1/6], Step [1700/1875], Custo: 0.0331, Acurácia(batch): 100.000%\n",
            "Época [1/6], Step [1800/1875], Custo: 0.0170, Acurácia(batch): 100.000%\n",
            "Época [2/6], Step [100/1875], Custo: 0.0011, Acurácia(batch): 100.000%\n",
            "Época [2/6], Step [200/1875], Custo: 0.0006, Acurácia(batch): 100.000%\n",
            "Época [2/6], Step [300/1875], Custo: 0.0022, Acurácia(batch): 100.000%\n",
            "Época [2/6], Step [400/1875], Custo: 0.0033, Acurácia(batch): 100.000%\n",
            "Época [2/6], Step [500/1875], Custo: 0.0008, Acurácia(batch): 100.000%\n",
            "Época [2/6], Step [600/1875], Custo: 0.0176, Acurácia(batch): 100.000%\n",
            "Época [2/6], Step [700/1875], Custo: 0.0058, Acurácia(batch): 100.000%\n",
            "Época [2/6], Step [800/1875], Custo: 0.0055, Acurácia(batch): 100.000%\n",
            "Época [2/6], Step [900/1875], Custo: 0.3504, Acurácia(batch): 96.875%\n",
            "Época [2/6], Step [1000/1875], Custo: 0.0032, Acurácia(batch): 100.000%\n",
            "Época [2/6], Step [1100/1875], Custo: 0.0004, Acurácia(batch): 100.000%\n",
            "Época [2/6], Step [1200/1875], Custo: 0.0079, Acurácia(batch): 100.000%\n",
            "Época [2/6], Step [1300/1875], Custo: 0.0011, Acurácia(batch): 100.000%\n",
            "Época [2/6], Step [1400/1875], Custo: 0.0813, Acurácia(batch): 96.875%\n",
            "Época [2/6], Step [1500/1875], Custo: 0.0043, Acurácia(batch): 100.000%\n",
            "Época [2/6], Step [1600/1875], Custo: 0.0008, Acurácia(batch): 100.000%\n",
            "Época [2/6], Step [1700/1875], Custo: 0.1096, Acurácia(batch): 93.750%\n",
            "Época [2/6], Step [1800/1875], Custo: 0.0063, Acurácia(batch): 100.000%\n",
            "Época [3/6], Step [100/1875], Custo: 0.0012, Acurácia(batch): 100.000%\n",
            "Época [3/6], Step [200/1875], Custo: 0.0522, Acurácia(batch): 96.875%\n",
            "Época [3/6], Step [300/1875], Custo: 0.0401, Acurácia(batch): 100.000%\n",
            "Época [3/6], Step [400/1875], Custo: 0.0441, Acurácia(batch): 96.875%\n",
            "Época [3/6], Step [500/1875], Custo: 0.0536, Acurácia(batch): 96.875%\n",
            "Época [3/6], Step [600/1875], Custo: 0.0013, Acurácia(batch): 100.000%\n",
            "Época [3/6], Step [700/1875], Custo: 0.0773, Acurácia(batch): 96.875%\n",
            "Época [3/6], Step [800/1875], Custo: 0.0152, Acurácia(batch): 100.000%\n",
            "Época [3/6], Step [900/1875], Custo: 0.0153, Acurácia(batch): 100.000%\n",
            "Época [3/6], Step [1000/1875], Custo: 0.0015, Acurácia(batch): 100.000%\n",
            "Época [3/6], Step [1100/1875], Custo: 0.0116, Acurácia(batch): 100.000%\n",
            "Época [3/6], Step [1200/1875], Custo: 0.0010, Acurácia(batch): 100.000%\n",
            "Época [3/6], Step [1300/1875], Custo: 0.0011, Acurácia(batch): 100.000%\n",
            "Época [3/6], Step [1400/1875], Custo: 0.0076, Acurácia(batch): 100.000%\n",
            "Época [3/6], Step [1500/1875], Custo: 0.0092, Acurácia(batch): 100.000%\n",
            "Época [3/6], Step [1600/1875], Custo: 0.0626, Acurácia(batch): 96.875%\n",
            "Época [3/6], Step [1700/1875], Custo: 0.0125, Acurácia(batch): 100.000%\n",
            "Época [3/6], Step [1800/1875], Custo: 0.0169, Acurácia(batch): 100.000%\n",
            "Época [4/6], Step [100/1875], Custo: 0.0020, Acurácia(batch): 100.000%\n",
            "Época [4/6], Step [200/1875], Custo: 0.0002, Acurácia(batch): 100.000%\n",
            "Época [4/6], Step [300/1875], Custo: 0.0069, Acurácia(batch): 100.000%\n",
            "Época [4/6], Step [400/1875], Custo: 0.0020, Acurácia(batch): 100.000%\n",
            "Época [4/6], Step [500/1875], Custo: 0.0012, Acurácia(batch): 100.000%\n",
            "Época [4/6], Step [600/1875], Custo: 0.0313, Acurácia(batch): 100.000%\n",
            "Época [4/6], Step [700/1875], Custo: 0.0532, Acurácia(batch): 96.875%\n",
            "Época [4/6], Step [800/1875], Custo: 0.0068, Acurácia(batch): 100.000%\n",
            "Época [4/6], Step [900/1875], Custo: 0.0153, Acurácia(batch): 100.000%\n",
            "Época [4/6], Step [1000/1875], Custo: 0.0001, Acurácia(batch): 100.000%\n",
            "Época [4/6], Step [1100/1875], Custo: 0.0079, Acurácia(batch): 100.000%\n",
            "Época [4/6], Step [1200/1875], Custo: 0.0019, Acurácia(batch): 100.000%\n",
            "Época [4/6], Step [1300/1875], Custo: 0.0000, Acurácia(batch): 100.000%\n",
            "Época [4/6], Step [1400/1875], Custo: 0.0015, Acurácia(batch): 100.000%\n",
            "Época [4/6], Step [1500/1875], Custo: 0.0002, Acurácia(batch): 100.000%\n",
            "Época [4/6], Step [1600/1875], Custo: 0.0911, Acurácia(batch): 93.750%\n",
            "Época [4/6], Step [1700/1875], Custo: 0.0091, Acurácia(batch): 100.000%\n",
            "Época [4/6], Step [1800/1875], Custo: 0.0078, Acurácia(batch): 100.000%\n",
            "Época [5/6], Step [100/1875], Custo: 0.0000, Acurácia(batch): 100.000%\n",
            "Época [5/6], Step [200/1875], Custo: 0.0006, Acurácia(batch): 100.000%\n",
            "Época [5/6], Step [300/1875], Custo: 0.0007, Acurácia(batch): 100.000%\n",
            "Época [5/6], Step [400/1875], Custo: 0.0001, Acurácia(batch): 100.000%\n",
            "Época [5/6], Step [500/1875], Custo: 0.0001, Acurácia(batch): 100.000%\n",
            "Época [5/6], Step [600/1875], Custo: 0.0875, Acurácia(batch): 96.875%\n",
            "Época [5/6], Step [700/1875], Custo: 0.0001, Acurácia(batch): 100.000%\n",
            "Época [5/6], Step [800/1875], Custo: 0.0028, Acurácia(batch): 100.000%\n",
            "Época [5/6], Step [900/1875], Custo: 0.0011, Acurácia(batch): 100.000%\n",
            "Época [5/6], Step [1000/1875], Custo: 0.0906, Acurácia(batch): 96.875%\n",
            "Época [5/6], Step [1100/1875], Custo: 0.0148, Acurácia(batch): 100.000%\n",
            "Época [5/6], Step [1200/1875], Custo: 0.0012, Acurácia(batch): 100.000%\n",
            "Época [5/6], Step [1300/1875], Custo: 0.0025, Acurácia(batch): 100.000%\n",
            "Época [5/6], Step [1400/1875], Custo: 0.0023, Acurácia(batch): 100.000%\n",
            "Época [5/6], Step [1500/1875], Custo: 0.0035, Acurácia(batch): 100.000%\n",
            "Época [5/6], Step [1600/1875], Custo: 0.0001, Acurácia(batch): 100.000%\n",
            "Época [5/6], Step [1700/1875], Custo: 0.0010, Acurácia(batch): 100.000%\n",
            "Época [5/6], Step [1800/1875], Custo: 0.0001, Acurácia(batch): 100.000%\n",
            "Época [6/6], Step [100/1875], Custo: 0.0007, Acurácia(batch): 100.000%\n",
            "Época [6/6], Step [200/1875], Custo: 0.0706, Acurácia(batch): 96.875%\n",
            "Época [6/6], Step [300/1875], Custo: 0.0001, Acurácia(batch): 100.000%\n",
            "Época [6/6], Step [400/1875], Custo: 0.0000, Acurácia(batch): 100.000%\n",
            "Época [6/6], Step [500/1875], Custo: 0.0001, Acurácia(batch): 100.000%\n",
            "Época [6/6], Step [600/1875], Custo: 0.0005, Acurácia(batch): 100.000%\n",
            "Época [6/6], Step [700/1875], Custo: 0.0023, Acurácia(batch): 100.000%\n",
            "Época [6/6], Step [800/1875], Custo: 0.0006, Acurácia(batch): 100.000%\n",
            "Época [6/6], Step [900/1875], Custo: 0.0000, Acurácia(batch): 100.000%\n",
            "Época [6/6], Step [1000/1875], Custo: 0.0497, Acurácia(batch): 96.875%\n",
            "Época [6/6], Step [1100/1875], Custo: 0.0002, Acurácia(batch): 100.000%\n",
            "Época [6/6], Step [1200/1875], Custo: 0.0001, Acurácia(batch): 100.000%\n",
            "Época [6/6], Step [1300/1875], Custo: 0.0007, Acurácia(batch): 100.000%\n",
            "Época [6/6], Step [1400/1875], Custo: 0.0000, Acurácia(batch): 100.000%\n",
            "Época [6/6], Step [1500/1875], Custo: 0.0000, Acurácia(batch): 100.000%\n",
            "Época [6/6], Step [1600/1875], Custo: 0.0001, Acurácia(batch): 100.000%\n",
            "Época [6/6], Step [1700/1875], Custo: 0.0001, Acurácia(batch): 100.000%\n",
            "Época [6/6], Step [1800/1875], Custo: 0.0051, Acurácia(batch): 100.000%\n"
          ]
        }
      ]
    },
    {
      "cell_type": "markdown",
      "source": [
        " Avaliação"
      ],
      "metadata": {
        "id": "v8cnm7qhL1dj"
      }
    },
    {
      "cell_type": "code",
      "source": [
        "model.eval()\n",
        "with torch.no_grad():\n",
        "    correct = 0\n",
        "    total = 0\n",
        "    for images, labels in test_loader:\n",
        "        images = images.to(device, non_blocking=True)\n",
        "        labels = labels.to(device, non_blocking=True)\n",
        "        outputs = model(images)\n",
        "        predicted = outputs.argmax(dim=1)\n",
        "        total += labels.size(0)\n",
        "        correct += (predicted == labels).sum().item()\n",
        "\n",
        "    print(f\"Acurácia do Modelo em {total} imagens de teste: {100 * correct / total:.3f}%\")"
      ],
      "metadata": {
        "id": "wEkUF95DL4iS"
      },
      "execution_count": null,
      "outputs": []
    }
  ]
}