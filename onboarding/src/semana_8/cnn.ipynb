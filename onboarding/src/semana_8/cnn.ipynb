{
  "nbformat": 4,
  "nbformat_minor": 0,
  "metadata": {
    "colab": {
      "provenance": [],
      "gpuType": "T4",
      "authorship_tag": "ABX9TyMT1pJIqLCJU/7CQBrNvcIO",
      "include_colab_link": true
    },
    "kernelspec": {
      "name": "python3",
      "display_name": "Python 3"
    },
    "language_info": {
      "name": "python"
    },
    "accelerator": "GPU"
  },
  "cells": [
    {
      "cell_type": "markdown",
      "metadata": {
        "id": "view-in-github",
        "colab_type": "text"
      },
      "source": [
        "<a href=\"https://colab.research.google.com/github/Luana-lrb/LIPAI_Python/blob/main/onboarding/src/semana_8/cnn.ipynb\" target=\"_parent\"><img src=\"https://colab.research.google.com/assets/colab-badge.svg\" alt=\"Open In Colab\"/></a>"
      ]
    },
    {
      "cell_type": "markdown",
      "source": [
        "# **Redes Neurais Convolucinais com PyTorch**"
      ],
      "metadata": {
        "id": "npKK76RIJeuL"
      }
    },
    {
      "cell_type": "markdown",
      "source": [
        "### Como base foi utilizado o trabalho dos Profs. Storopoli & Souza disponível no Google Colab:\n",
        "https://colab.research.google.com/github/storopoli/ciencia-de-dados/blob/main/notebooks/Aula_19_Redes_Neurais_Convolucionais_com_PyTorch.ipynb#scrollTo=oR24U2WYKVrw\n"
      ],
      "metadata": {
        "id": "WJhg_QXeJ2EE"
      }
    },
    {
      "cell_type": "markdown",
      "source": [
        "Importando bibliotecas necessárias:"
      ],
      "metadata": {
        "id": "jffzPlybJvgw"
      }
    },
    {
      "cell_type": "code",
      "execution_count": 34,
      "metadata": {
        "id": "jXgy82vKJYi7"
      },
      "outputs": [],
      "source": [
        "import torch\n",
        "import torch.nn as nn\n",
        "from torch.optim import Adam\n",
        "from torch.utils.data import DataLoader,random_split\n",
        "import torchvision\n",
        "from torchvision import transforms\n",
        "import matplotlib.pyplot as plt"
      ]
    },
    {
      "cell_type": "markdown",
      "source": [
        "**Exercício 1 - Device: usa GPU se disponível**"
      ],
      "metadata": {
        "id": "PNd9NlVxKaQp"
      }
    },
    {
      "cell_type": "code",
      "source": [
        "device = torch.device(\"cuda\" if torch.cuda.is_available() else \"cpu\")\n",
        "print(\"Treinando em:\", device)\n",
        "if device.type == \"cuda\":\n",
        "    print(\"GPU:\", torch.cuda.get_device_name(0))"
      ],
      "metadata": {
        "colab": {
          "base_uri": "https://localhost:8080/"
        },
        "id": "4A9FbwiZKgEz",
        "outputId": "a6d5c316-1180-4c4a-b08e-517aaaf7084d"
      },
      "execution_count": 35,
      "outputs": [
        {
          "output_type": "stream",
          "name": "stdout",
          "text": [
            "Treinando em: cuda\n",
            "GPU: Tesla T4\n"
          ]
        }
      ]
    },
    {
      "cell_type": "markdown",
      "source": [
        "Transform e datasets:"
      ],
      "metadata": {
        "id": "bVfv_MmyKtJo"
      }
    },
    {
      "cell_type": "code",
      "source": [
        "trans = transforms.Compose([\n",
        "    transforms.ToTensor(),\n",
        "    transforms.Normalize((0.1307,), (0.3081,))\n",
        "])\n",
        "\n",
        "root_path = '/home/storopoli/Downloads'  # Está funcionando assim\n",
        "train_dataset_full = torchvision.datasets.MNIST(root=root_path, train=True, transform=trans, download=True)\n",
        "test_dataset  = torchvision.datasets.MNIST(root=root_path, train=False, transform=trans)\n"
      ],
      "metadata": {
        "id": "DU1mPxEoKxeH"
      },
      "execution_count": 36,
      "outputs": []
    },
    {
      "cell_type": "markdown",
      "source": [
        "DataLoaders: use pin_memory quando usar GPU para acelerar cópias"
      ],
      "metadata": {
        "id": "Av8hxU9uK9LE"
      }
    },
    {
      "cell_type": "markdown",
      "source": [
        "**Exercício 2 - Dividindo em treino e validação**"
      ],
      "metadata": {
        "id": "7MZV391Le858"
      }
    },
    {
      "cell_type": "code",
      "source": [
        "train_size = int(0.8 * len(train_dataset_full))   # 80% treino\n",
        "val_size   = len(train_dataset_full) - train_size # 20% validação\n",
        "train_dataset, val_dataset = random_split(train_dataset_full, [train_size, val_size])"
      ],
      "metadata": {
        "id": "CjNHYUFzfJEy"
      },
      "execution_count": 37,
      "outputs": []
    },
    {
      "cell_type": "code",
      "source": [
        "batch_size = 32\n",
        "num_workers = 0  # ajuste conforme sua máquina; no Windows usar 0 às vezes\n",
        "pin_memory = True if device.type == \"cuda\" else False\n",
        "\n",
        "train_loader = DataLoader(train_dataset, batch_size=batch_size, shuffle=True,\n",
        "                          num_workers=num_workers, pin_memory=pin_memory)\n",
        "val_loader   = DataLoader(val_dataset, batch_size=batch_size, shuffle=False,\n",
        "                          num_workers=num_workers, pin_memory=pin_memory)\n",
        "test_loader  = DataLoader(test_dataset,  batch_size=batch_size, shuffle=False,\n",
        "                          num_workers=num_workers, pin_memory=pin_memory)\n",
        "\n"
      ],
      "metadata": {
        "id": "erUyY3vfLEXI"
      },
      "execution_count": 38,
      "outputs": []
    },
    {
      "cell_type": "markdown",
      "source": [
        "Modelo"
      ],
      "metadata": {
        "id": "IXqz1qcYLJcF"
      }
    },
    {
      "cell_type": "code",
      "source": [
        "class ConvNet(nn.Module):\n",
        "    def __init__(self):\n",
        "        super(ConvNet, self).__init__()\n",
        "        self.layer1 = nn.Sequential(\n",
        "            nn.Conv2d(1, 32, kernel_size=5, stride=1, padding=2),\n",
        "            nn.ReLU(),\n",
        "            nn.MaxPool2d(kernel_size=2, stride=2)\n",
        "        )\n",
        "        self.layer2 = nn.Sequential(\n",
        "            nn.Conv2d(32, 64, kernel_size=5, stride=1, padding=2),\n",
        "            nn.ReLU(),\n",
        "            nn.MaxPool2d(kernel_size=2, stride=2)\n",
        "        )\n",
        "        self.fc1 = nn.Sequential(\n",
        "            nn.Linear(7 * 7 * 64, 1000),\n",
        "            nn.ReLU()\n",
        "        )\n",
        "        self.fc2 = nn.Linear(1000, 10)\n",
        "\n",
        "    def forward(self, x):\n",
        "        out = self.layer1(x)\n",
        "        out = self.layer2(out)\n",
        "        out = out.reshape(out.size(0), -1)\n",
        "        out = self.fc1(out)\n",
        "        out = self.fc2(out)\n",
        "        return out"
      ],
      "metadata": {
        "id": "yVv8n4ZRLRm_"
      },
      "execution_count": 39,
      "outputs": []
    },
    {
      "cell_type": "markdown",
      "source": [
        "Instancia e move o modelo para device ANTES de criar o otimizador"
      ],
      "metadata": {
        "id": "_0Ca5vQfLX73"
      }
    },
    {
      "cell_type": "code",
      "source": [
        "model = ConvNet().to(device)\n",
        "print(model)\n",
        "def count_parameters(model):\n",
        "    return sum(p.numel() for p in model.parameters() if p.requires_grad)\n",
        "print(\"Parâmetros treináveis:\", count_parameters(model))"
      ],
      "metadata": {
        "id": "pFTeJyG6LYKz",
        "colab": {
          "base_uri": "https://localhost:8080/"
        },
        "outputId": "a036a247-7b5a-4ed7-f365-6430e1fcdff9"
      },
      "execution_count": 40,
      "outputs": [
        {
          "output_type": "stream",
          "name": "stdout",
          "text": [
            "ConvNet(\n",
            "  (layer1): Sequential(\n",
            "    (0): Conv2d(1, 32, kernel_size=(5, 5), stride=(1, 1), padding=(2, 2))\n",
            "    (1): ReLU()\n",
            "    (2): MaxPool2d(kernel_size=2, stride=2, padding=0, dilation=1, ceil_mode=False)\n",
            "  )\n",
            "  (layer2): Sequential(\n",
            "    (0): Conv2d(32, 64, kernel_size=(5, 5), stride=(1, 1), padding=(2, 2))\n",
            "    (1): ReLU()\n",
            "    (2): MaxPool2d(kernel_size=2, stride=2, padding=0, dilation=1, ceil_mode=False)\n",
            "  )\n",
            "  (fc1): Sequential(\n",
            "    (0): Linear(in_features=3136, out_features=1000, bias=True)\n",
            "    (1): ReLU()\n",
            "  )\n",
            "  (fc2): Linear(in_features=1000, out_features=10, bias=True)\n",
            ")\n",
            "Parâmetros treináveis: 3199106\n"
          ]
        }
      ]
    },
    {
      "cell_type": "markdown",
      "source": [
        " Loss, hyperparams e otimizador (otimizador depois do model.to)"
      ],
      "metadata": {
        "id": "1qHfBG-mLgaA"
      }
    },
    {
      "cell_type": "code",
      "source": [
        "loss_fn = nn.CrossEntropyLoss()\n",
        "learning_rate = 0.001\n",
        "epochs = 6\n",
        "optimizer = Adam(model.parameters(), lr=learning_rate)\n",
        "torch.backends.cudnn.benchmark = True if device.type == \"cuda\" else False"
      ],
      "metadata": {
        "id": "DAvcH2V_LnUK"
      },
      "execution_count": 41,
      "outputs": []
    },
    {
      "cell_type": "markdown",
      "source": [
        "Loop para o treinamento e validação por época, com lista para armazenar o histórico e variáveis para salvar o melhor modelo."
      ],
      "metadata": {
        "id": "NR0JxoOPlbQ8"
      }
    },
    {
      "cell_type": "code",
      "source": [
        "#Listas para o histórico\n",
        "train_losses = []\n",
        "train_accuracies = []\n",
        "val_losses = []\n",
        "val_accuracies = []\n",
        "\n",
        "#Salvar o melhor modelo\n",
        "best_val_acc = 0.0\n",
        "best_model_path = 'best_mnist_cnn_model.pth'\n",
        "\n",
        "\n",
        "total_step = len(train_loader)\n",
        "\n",
        "for epoch in range(epochs):\n",
        "    model.train()\n",
        "    running_loss, running_correct, running_total = 0.0, 0, 0\n",
        "\n",
        "    for i, (images, labels) in enumerate(train_loader):\n",
        "        images = images.to(device, non_blocking=True)\n",
        "        labels = labels.to(device, non_blocking=True)\n",
        "\n",
        "        # forward + loss\n",
        "        outputs = model(images)\n",
        "        loss = loss_fn(outputs, labels)\n",
        "\n",
        "        # backward + update\n",
        "        optimizer.zero_grad()\n",
        "        loss.backward()\n",
        "        optimizer.step()\n",
        "\n",
        "        # métricas do step\n",
        "        total = labels.size(0)\n",
        "        predicted = outputs.argmax(dim=1)\n",
        "        correct = (predicted == labels).sum().item()\n",
        "        acc = 100 * correct / total\n",
        "\n",
        "        running_loss += loss.item()\n",
        "        running_correct += correct\n",
        "        running_total += total\n",
        "\n",
        "        if (i + 1) % 100 == 0:\n",
        "            print(f\"Época [{epoch+1}/{epochs}], \"\n",
        "                  f\"Step [{i+1}/{total_step}], \"\n",
        "                  f\"Loss: {loss.item():.4f}, \"\n",
        "                  f\"Acc: {acc:.2f}%\")\n",
        "\n",
        "    # ===== Calcular Métricas =====\n",
        "    train_epoch_loss = running_loss / len(train_loader)\n",
        "    train_epoch_acc = 100 * running_correct / running_total\n",
        "\n",
        "    train_losses.append(train_epoch_loss)\n",
        "    train_accuracies.append(train_epoch_acc)\n",
        "\n",
        "    # ===== Validação ao fim da época =====\n",
        "    model.eval()\n",
        "    val_loss, val_correct, val_total = 0.0, 0, 0\n",
        "    with torch.no_grad():\n",
        "        for images, labels in val_loader:\n",
        "            images = images.to(device, non_blocking=True)\n",
        "            labels = labels.to(device, non_blocking=True)\n",
        "\n",
        "            outputs = model(images)\n",
        "            loss = loss_fn(outputs, labels)\n",
        "\n",
        "            val_loss += loss.item()\n",
        "            predicted = outputs.argmax(dim=1)\n",
        "            val_total += labels.size(0)\n",
        "            val_correct += (predicted == labels).sum().item()\n",
        "\n",
        "    val_loss /= len(val_loader)\n",
        "    val_acc = 100 * val_correct / val_total\n",
        "\n",
        "    val_losses.append(val_loss)\n",
        "    val_accuracies.append(val_acc)\n",
        "\n",
        "    #===== Salvando o melhor modelo =====\n",
        "    if val_acc > best_val_acc:\n",
        "        best_val_acc = val_acc\n",
        "        torch.save({\n",
        "            'epoch': epoch + 1,\n",
        "            'model_state_dict': model.state_dict(),\n",
        "            'optimizer_state_dict': optimizer.state_dict(),\n",
        "            'best_val_acc': best_val_acc,\n",
        "            'train_loss': train_epoch_loss,\n",
        "            'val_loss': val_loss\n",
        "        }, best_model_path)\n",
        "\n",
        "    print(f\"===== Fim da Época {epoch+1} =====\")\n",
        "    print(f\"Validação -> Loss: {val_loss:.4f}, Acc: {val_acc:.2f}%\")\n",
        "    print(\"==========================\")\n"
      ],
      "metadata": {
        "id": "ee0kVd3GLw0H",
        "colab": {
          "base_uri": "https://localhost:8080/"
        },
        "outputId": "baddfbc8-7cae-4fee-fb9c-58ece96a1f98"
      },
      "execution_count": 42,
      "outputs": [
        {
          "output_type": "stream",
          "name": "stdout",
          "text": [
            "Época [1/6], Step [100/1500], Loss: 0.0838, Acc: 96.88%\n",
            "Época [1/6], Step [200/1500], Loss: 0.3747, Acc: 90.62%\n",
            "Época [1/6], Step [300/1500], Loss: 0.3807, Acc: 93.75%\n",
            "Época [1/6], Step [400/1500], Loss: 0.2667, Acc: 87.50%\n",
            "Época [1/6], Step [500/1500], Loss: 0.0162, Acc: 100.00%\n",
            "Época [1/6], Step [600/1500], Loss: 0.1084, Acc: 93.75%\n",
            "Época [1/6], Step [700/1500], Loss: 0.1488, Acc: 96.88%\n",
            "Época [1/6], Step [800/1500], Loss: 0.1265, Acc: 96.88%\n",
            "Época [1/6], Step [900/1500], Loss: 0.1751, Acc: 96.88%\n",
            "Época [1/6], Step [1000/1500], Loss: 0.0137, Acc: 100.00%\n",
            "Época [1/6], Step [1100/1500], Loss: 0.1108, Acc: 96.88%\n",
            "Época [1/6], Step [1200/1500], Loss: 0.0164, Acc: 100.00%\n",
            "Época [1/6], Step [1300/1500], Loss: 0.1141, Acc: 93.75%\n",
            "Época [1/6], Step [1400/1500], Loss: 0.0099, Acc: 100.00%\n",
            "Época [1/6], Step [1500/1500], Loss: 0.0760, Acc: 96.88%\n",
            "===== Fim da Época 1 =====\n",
            "Validação -> Loss: 0.0584, Acc: 98.19%\n",
            "==================================\n",
            "Época [2/6], Step [100/1500], Loss: 0.1062, Acc: 93.75%\n",
            "Época [2/6], Step [200/1500], Loss: 0.0617, Acc: 96.88%\n",
            "Época [2/6], Step [300/1500], Loss: 0.0074, Acc: 100.00%\n",
            "Época [2/6], Step [400/1500], Loss: 0.0126, Acc: 100.00%\n",
            "Época [2/6], Step [500/1500], Loss: 0.0113, Acc: 100.00%\n",
            "Época [2/6], Step [600/1500], Loss: 0.1016, Acc: 96.88%\n",
            "Época [2/6], Step [700/1500], Loss: 0.0192, Acc: 100.00%\n",
            "Época [2/6], Step [800/1500], Loss: 0.0207, Acc: 100.00%\n",
            "Época [2/6], Step [900/1500], Loss: 0.0347, Acc: 100.00%\n",
            "Época [2/6], Step [1000/1500], Loss: 0.0654, Acc: 96.88%\n",
            "Época [2/6], Step [1100/1500], Loss: 0.0584, Acc: 96.88%\n",
            "Época [2/6], Step [1200/1500], Loss: 0.0056, Acc: 100.00%\n",
            "Época [2/6], Step [1300/1500], Loss: 0.0004, Acc: 100.00%\n",
            "Época [2/6], Step [1400/1500], Loss: 0.0853, Acc: 96.88%\n",
            "Época [2/6], Step [1500/1500], Loss: 0.0204, Acc: 100.00%\n",
            "===== Fim da Época 2 =====\n",
            "Validação -> Loss: 0.0479, Acc: 98.70%\n",
            "==================================\n",
            "Época [3/6], Step [100/1500], Loss: 0.0036, Acc: 100.00%\n",
            "Época [3/6], Step [200/1500], Loss: 0.0072, Acc: 100.00%\n",
            "Época [3/6], Step [300/1500], Loss: 0.0295, Acc: 100.00%\n",
            "Época [3/6], Step [400/1500], Loss: 0.0379, Acc: 96.88%\n",
            "Época [3/6], Step [500/1500], Loss: 0.0015, Acc: 100.00%\n",
            "Época [3/6], Step [600/1500], Loss: 0.0062, Acc: 100.00%\n",
            "Época [3/6], Step [700/1500], Loss: 0.0012, Acc: 100.00%\n",
            "Época [3/6], Step [800/1500], Loss: 0.0301, Acc: 96.88%\n",
            "Época [3/6], Step [900/1500], Loss: 0.0027, Acc: 100.00%\n",
            "Época [3/6], Step [1000/1500], Loss: 0.0402, Acc: 96.88%\n",
            "Época [3/6], Step [1100/1500], Loss: 0.0206, Acc: 100.00%\n",
            "Época [3/6], Step [1200/1500], Loss: 0.0519, Acc: 96.88%\n",
            "Época [3/6], Step [1300/1500], Loss: 0.0079, Acc: 100.00%\n",
            "Época [3/6], Step [1400/1500], Loss: 0.0490, Acc: 96.88%\n",
            "Época [3/6], Step [1500/1500], Loss: 0.0025, Acc: 100.00%\n",
            "===== Fim da Época 3 =====\n",
            "Validação -> Loss: 0.0477, Acc: 98.78%\n",
            "==================================\n",
            "Época [4/6], Step [100/1500], Loss: 0.0180, Acc: 100.00%\n",
            "Época [4/6], Step [200/1500], Loss: 0.0676, Acc: 96.88%\n",
            "Época [4/6], Step [300/1500], Loss: 0.0007, Acc: 100.00%\n",
            "Época [4/6], Step [400/1500], Loss: 0.0011, Acc: 100.00%\n",
            "Época [4/6], Step [500/1500], Loss: 0.0120, Acc: 100.00%\n",
            "Época [4/6], Step [600/1500], Loss: 0.0010, Acc: 100.00%\n",
            "Época [4/6], Step [700/1500], Loss: 0.0000, Acc: 100.00%\n",
            "Época [4/6], Step [800/1500], Loss: 0.1603, Acc: 93.75%\n",
            "Época [4/6], Step [900/1500], Loss: 0.0056, Acc: 100.00%\n",
            "Época [4/6], Step [1000/1500], Loss: 0.0101, Acc: 100.00%\n",
            "Época [4/6], Step [1100/1500], Loss: 0.0001, Acc: 100.00%\n",
            "Época [4/6], Step [1200/1500], Loss: 0.0077, Acc: 100.00%\n",
            "Época [4/6], Step [1300/1500], Loss: 0.0474, Acc: 96.88%\n",
            "Época [4/6], Step [1400/1500], Loss: 0.1565, Acc: 96.88%\n",
            "Época [4/6], Step [1500/1500], Loss: 0.0016, Acc: 100.00%\n",
            "===== Fim da Época 4 =====\n",
            "Validação -> Loss: 0.0467, Acc: 98.77%\n",
            "==================================\n",
            "Época [5/6], Step [100/1500], Loss: 0.0006, Acc: 100.00%\n",
            "Época [5/6], Step [200/1500], Loss: 0.0002, Acc: 100.00%\n",
            "Época [5/6], Step [300/1500], Loss: 0.0126, Acc: 100.00%\n",
            "Época [5/6], Step [400/1500], Loss: 0.0009, Acc: 100.00%\n",
            "Época [5/6], Step [500/1500], Loss: 0.0066, Acc: 100.00%\n",
            "Época [5/6], Step [600/1500], Loss: 0.0092, Acc: 100.00%\n",
            "Época [5/6], Step [700/1500], Loss: 0.0001, Acc: 100.00%\n",
            "Época [5/6], Step [800/1500], Loss: 0.0067, Acc: 100.00%\n",
            "Época [5/6], Step [900/1500], Loss: 0.0008, Acc: 100.00%\n",
            "Época [5/6], Step [1000/1500], Loss: 0.0023, Acc: 100.00%\n",
            "Época [5/6], Step [1100/1500], Loss: 0.0001, Acc: 100.00%\n",
            "Época [5/6], Step [1200/1500], Loss: 0.0241, Acc: 100.00%\n",
            "Época [5/6], Step [1300/1500], Loss: 0.0119, Acc: 100.00%\n",
            "Época [5/6], Step [1400/1500], Loss: 0.0003, Acc: 100.00%\n",
            "Época [5/6], Step [1500/1500], Loss: 0.0004, Acc: 100.00%\n",
            "===== Fim da Época 5 =====\n",
            "Validação -> Loss: 0.0447, Acc: 98.84%\n",
            "==================================\n",
            "Época [6/6], Step [100/1500], Loss: 0.0183, Acc: 100.00%\n",
            "Época [6/6], Step [200/1500], Loss: 0.0000, Acc: 100.00%\n",
            "Época [6/6], Step [300/1500], Loss: 0.0546, Acc: 96.88%\n",
            "Época [6/6], Step [400/1500], Loss: 0.0001, Acc: 100.00%\n",
            "Época [6/6], Step [500/1500], Loss: 0.1049, Acc: 96.88%\n",
            "Época [6/6], Step [600/1500], Loss: 0.0425, Acc: 96.88%\n",
            "Época [6/6], Step [700/1500], Loss: 0.0000, Acc: 100.00%\n",
            "Época [6/6], Step [800/1500], Loss: 0.0000, Acc: 100.00%\n",
            "Época [6/6], Step [900/1500], Loss: 0.0041, Acc: 100.00%\n",
            "Época [6/6], Step [1000/1500], Loss: 0.0507, Acc: 96.88%\n",
            "Época [6/6], Step [1100/1500], Loss: 0.0486, Acc: 96.88%\n",
            "Época [6/6], Step [1200/1500], Loss: 0.0831, Acc: 96.88%\n",
            "Época [6/6], Step [1300/1500], Loss: 0.0473, Acc: 96.88%\n",
            "Época [6/6], Step [1400/1500], Loss: 0.0043, Acc: 100.00%\n",
            "Época [6/6], Step [1500/1500], Loss: 0.0001, Acc: 100.00%\n",
            "===== Fim da Época 6 =====\n",
            "Validação -> Loss: 0.0534, Acc: 98.69%\n",
            "==================================\n"
          ]
        }
      ]
    },
    {
      "cell_type": "markdown",
      "source": [
        " Avaliação Total"
      ],
      "metadata": {
        "id": "v8cnm7qhL1dj"
      }
    },
    {
      "cell_type": "code",
      "source": [
        "model.eval()\n",
        "with torch.no_grad():\n",
        "    correct = 0\n",
        "    total = 0\n",
        "    for images, labels in test_loader:\n",
        "        images = images.to(device, non_blocking=True)\n",
        "        labels = labels.to(device, non_blocking=True)\n",
        "        outputs = model(images)\n",
        "        predicted = outputs.argmax(dim=1)\n",
        "        total += labels.size(0)\n",
        "        correct += (predicted == labels).sum().item()\n",
        "\n",
        "    print(f\"Acurácia do Modelo em {total} imagens de teste: {100 * correct / total:.3f}%\")"
      ],
      "metadata": {
        "id": "wEkUF95DL4iS",
        "colab": {
          "base_uri": "https://localhost:8080/"
        },
        "outputId": "d847c4f7-eb7f-494b-9cac-ee90f4d41155"
      },
      "execution_count": 43,
      "outputs": [
        {
          "output_type": "stream",
          "name": "stdout",
          "text": [
            "Acurácia do Modelo em 10000 imagens de teste: 98.700%\n"
          ]
        }
      ]
    },
    {
      "cell_type": "markdown",
      "source": [
        "**Exercício 3 - Gráficos usando as listas de históricos**"
      ],
      "metadata": {
        "id": "jgqflG0gLwET"
      }
    },
    {
      "cell_type": "markdown",
      "source": [
        "Gráfico de Perda:"
      ],
      "metadata": {
        "id": "d5-Ac1fzmbj7"
      }
    },
    {
      "cell_type": "code",
      "source": [
        "epochs_range = range(1, epochs + 1)\n",
        "\n",
        "plt.figure(figsize=(12, 5))\n",
        "\n",
        "plt.subplot(1, 2, 1)\n",
        "plt.plot(epochs_range, train_losses, 'b-', label='Treino', marker='o')\n",
        "plt.plot(epochs_range, val_losses, 'r-', label='Validação', marker='s')\n",
        "plt.title('Perda do Modelo')\n",
        "plt.xlabel('Época')\n",
        "plt.ylabel('Loss')\n",
        "plt.legend()\n",
        "plt.grid(True, alpha=0.3)"
      ],
      "metadata": {
        "colab": {
          "base_uri": "https://localhost:8080/",
          "height": 489
        },
        "id": "QBZiRitymflL",
        "outputId": "34e81670-f258-49c0-cd64-40ab016b141f"
      },
      "execution_count": 44,
      "outputs": [
        {
          "output_type": "display_data",
          "data": {
            "text/plain": [
              "<Figure size 1200x500 with 1 Axes>"
            ],
            "image/png": "[encoded data removed]"
          },
          "metadata": {}
        }
      ]
    },
    {
      "cell_type": "markdown",
      "source": [
        "Gráfico de acurácia:"
      ],
      "metadata": {
        "id": "A1ejUGU9mrqU"
      }
    },
    {
      "cell_type": "code",
      "source": [
        "\n",
        "plt.subplot(1, 2, 2)\n",
        "plt.plot(epochs_range, train_accuracies, 'b-', label='Treino', marker='o')\n",
        "plt.plot(epochs_range, val_accuracies, 'r-', label='Validação', marker='s')\n",
        "plt.title('Acurácia do Modelo')\n",
        "plt.xlabel('Época')\n",
        "plt.ylabel('Acurácia (%)')\n",
        "plt.legend()\n",
        "plt.grid(True, alpha=0.3)\n",
        "\n",
        "plt.tight_layout()\n",
        "plt.show()"
      ],
      "metadata": {
        "colab": {
          "base_uri": "https://localhost:8080/",
          "height": 487
        },
        "id": "B_4LE6XOmxXv",
        "outputId": "a5f0e25c-c2b9-4b86-adfd-e6ef73eeee0d"
      },
      "execution_count": 45,
      "outputs": [
        {
          "output_type": "display_data",
          "data": {
            "text/plain": [
              "<Figure size 640x480 with 1 Axes>"
            ],
            "image/png": "[encoded data removed]"
          },
          "metadata": {}
        }
      ]
    },
    {
      "cell_type": "markdown",
      "source": [
        "**Exercício 4 - Como carregar o melhor modelo:**"
      ],
      "metadata": {
        "id": "sWnRKXZ-r8XK"
      }
    },
    {
      "cell_type": "code",
      "source": [
        "loaded_model = ConvNet().to(device)\n",
        "\n",
        "# Carregando o checkpoint\n",
        "checkpoint = torch.load(best_model_path, map_location=device)\n",
        "loaded_model.load_state_dict(checkpoint['model_state_dict'])\n",
        "\n",
        "\n",
        "# testando o modelo carregado\n",
        "loaded_model.eval()\n",
        "with torch.no_grad():\n",
        "    correct = 0\n",
        "    total = 0\n",
        "    for images, labels in test_loader:\n",
        "        images = images.to(device, non_blocking=True)\n",
        "        labels = labels.to(device, non_blocking=True)\n",
        "        outputs = loaded_model(images)\n",
        "        predicted = outputs.argmax(dim=1)\n",
        "        total += labels.size(0)\n",
        "        correct += (predicted == labels).sum().item()\n",
        "\n",
        "    loaded_test_acc = 100 * correct / total\n",
        "    print(f\"Acurácia do modelo carregado: {loaded_test_acc:.3f}%\")\n"
      ],
      "metadata": {
        "colab": {
          "base_uri": "https://localhost:8080/"
        },
        "id": "GDj-b2CisGVj",
        "outputId": "2dc6717f-4ec6-4c67-a5d0-2b13fe7b275b"
      },
      "execution_count": 46,
      "outputs": [
        {
          "output_type": "stream",
          "name": "stdout",
          "text": [
            "Acurácia do modelo carregado: 99.000%\n"
          ]
        }
      ]
    }
  ]
}