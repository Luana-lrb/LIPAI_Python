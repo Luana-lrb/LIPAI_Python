{
  "nbformat": 4,
  "nbformat_minor": 0,
  "metadata": {
    "colab": {
      "provenance": [],
      "gpuType": "T4",
      "authorship_tag": "ABX9TyPUuzcW1FRzTs3038sOM1G4",
      "include_colab_link": true
    },
    "kernelspec": {
      "name": "python3",
      "display_name": "Python 3"
    },
    "language_info": {
      "name": "python"
    },
    "accelerator": "GPU"
  },
  "cells": [
    {
      "cell_type": "markdown",
      "metadata": {
        "id": "view-in-github",
        "colab_type": "text"
      },
      "source": [
        "<a href=\"https://colab.research.google.com/github/Luana-lrb/LIPAI_Python/blob/main/onboarding/src/semana_8/cnn.ipynb\" target=\"_parent\"><img src=\"https://colab.research.google.com/assets/colab-badge.svg\" alt=\"Open In Colab\"/></a>"
      ]
    },
    {
      "cell_type": "markdown",
      "source": [
        "# **Redes Neurais Convolucinais com PyTorch**"
      ],
      "metadata": {
        "id": "npKK76RIJeuL"
      }
    },
    {
      "cell_type": "markdown",
      "source": [
        "### Como base foi utilizado o trabalho dos Profs. Storopoli & Souza disponível no Google Colab:\n",
        "https://colab.research.google.com/github/storopoli/ciencia-de-dados/blob/main/notebooks/Aula_19_Redes_Neurais_Convolucionais_com_PyTorch.ipynb#scrollTo=oR24U2WYKVrw\n"
      ],
      "metadata": {
        "id": "WJhg_QXeJ2EE"
      }
    },
    {
      "cell_type": "markdown",
      "source": [
        "Importando bibliotecas necessárias:"
      ],
      "metadata": {
        "id": "jffzPlybJvgw"
      }
    },
    {
      "cell_type": "code",
      "execution_count": 1,
      "metadata": {
        "id": "jXgy82vKJYi7"
      },
      "outputs": [],
      "source": [
        "import torch\n",
        "import torch.nn as nn\n",
        "from torch.optim import Adam\n",
        "from torch.utils.data import DataLoader,random_split\n",
        "import torchvision\n",
        "from torchvision import transforms\n",
        "import matplotlib.pyplot as plt"
      ]
    },
    {
      "cell_type": "markdown",
      "source": [
        "**Exercício 1 - Device: usa GPU se disponível**"
      ],
      "metadata": {
        "id": "PNd9NlVxKaQp"
      }
    },
    {
      "cell_type": "code",
      "source": [
        "device = torch.device(\"cuda\" if torch.cuda.is_available() else \"cpu\")\n",
        "print(\"Treinando em:\", device)\n",
        "if device.type == \"cuda\":\n",
        "    print(\"GPU:\", torch.cuda.get_device_name(0))"
      ],
      "metadata": {
        "colab": {
          "base_uri": "https://localhost:8080/"
        },
        "id": "4A9FbwiZKgEz",
        "outputId": "ad7a6cba-3f36-4d24-824d-e0fd1dcd3f3f"
      },
      "execution_count": 2,
      "outputs": [
        {
          "output_type": "stream",
          "name": "stdout",
          "text": [
            "Treinando em: cuda\n",
            "GPU: Tesla T4\n"
          ]
        }
      ]
    },
    {
      "cell_type": "markdown",
      "source": [
        "Transform e datasets:"
      ],
      "metadata": {
        "id": "bVfv_MmyKtJo"
      }
    },
    {
      "cell_type": "code",
      "source": [
        "trans = transforms.Compose([\n",
        "    transforms.ToTensor(),\n",
        "    transforms.Normalize((0.1307,), (0.3081,))\n",
        "])\n",
        "\n",
        "root_path = '/home/storopoli/Downloads'  # Está funcionando assim\n",
        "train_dataset_full = torchvision.datasets.MNIST(root=root_path, train=True, transform=trans, download=True)\n",
        "test_dataset  = torchvision.datasets.MNIST(root=root_path, train=False, transform=trans)\n"
      ],
      "metadata": {
        "colab": {
          "base_uri": "https://localhost:8080/"
        },
        "id": "DU1mPxEoKxeH",
        "outputId": "4b379c84-de8f-4da4-84bb-e2a218a7a926"
      },
      "execution_count": 3,
      "outputs": [
        {
          "output_type": "stream",
          "name": "stderr",
          "text": [
            "100%|██████████| 9.91M/9.91M [00:00<00:00, 20.5MB/s]\n",
            "100%|██████████| 28.9k/28.9k [00:00<00:00, 501kB/s]\n",
            "100%|██████████| 1.65M/1.65M [00:00<00:00, 4.67MB/s]\n",
            "100%|██████████| 4.54k/4.54k [00:00<00:00, 10.1MB/s]\n"
          ]
        }
      ]
    },
    {
      "cell_type": "markdown",
      "source": [
        "DataLoaders: use pin_memory quando usar GPU para acelerar cópias"
      ],
      "metadata": {
        "id": "Av8hxU9uK9LE"
      }
    },
    {
      "cell_type": "markdown",
      "source": [
        "**Exercício 2 - Dividindo em treino e validação**"
      ],
      "metadata": {
        "id": "7MZV391Le858"
      }
    },
    {
      "cell_type": "code",
      "source": [
        "train_size = int(0.8 * len(train_dataset_full))   # 80% treino\n",
        "val_size   = len(train_dataset_full) - train_size # 20% validação\n",
        "train_dataset, val_dataset = random_split(train_dataset_full, [train_size, val_size])"
      ],
      "metadata": {
        "id": "CjNHYUFzfJEy"
      },
      "execution_count": 4,
      "outputs": []
    },
    {
      "cell_type": "code",
      "source": [
        "batch_size = 32\n",
        "num_workers = 0  # ajuste conforme sua máquina; no Windows usar 0 às vezes\n",
        "pin_memory = True if device.type == \"cuda\" else False\n",
        "\n",
        "train_loader = DataLoader(train_dataset, batch_size=batch_size, shuffle=True,\n",
        "                          num_workers=num_workers, pin_memory=pin_memory)\n",
        "val_loader   = DataLoader(val_dataset, batch_size=batch_size, shuffle=False,\n",
        "                          num_workers=num_workers, pin_memory=pin_memory)\n",
        "test_loader  = DataLoader(test_dataset,  batch_size=batch_size, shuffle=False,\n",
        "                          num_workers=num_workers, pin_memory=pin_memory)\n",
        "\n"
      ],
      "metadata": {
        "id": "erUyY3vfLEXI"
      },
      "execution_count": 5,
      "outputs": []
    },
    {
      "cell_type": "markdown",
      "source": [
        "Modelo"
      ],
      "metadata": {
        "id": "IXqz1qcYLJcF"
      }
    },
    {
      "cell_type": "code",
      "source": [
        "class ConvNet(nn.Module):\n",
        "    def __init__(self):\n",
        "        super(ConvNet, self).__init__()\n",
        "        self.layer1 = nn.Sequential(\n",
        "            nn.Conv2d(1, 32, kernel_size=5, stride=1, padding=2),\n",
        "            nn.ReLU(),\n",
        "            nn.MaxPool2d(kernel_size=2, stride=2)\n",
        "        )\n",
        "        self.layer2 = nn.Sequential(\n",
        "            nn.Conv2d(32, 64, kernel_size=5, stride=1, padding=2),\n",
        "            nn.ReLU(),\n",
        "            nn.MaxPool2d(kernel_size=2, stride=2)\n",
        "        )\n",
        "        self.fc1 = nn.Sequential(\n",
        "            nn.Linear(7 * 7 * 64, 1000),\n",
        "            nn.ReLU()\n",
        "        )\n",
        "        self.fc2 = nn.Linear(1000, 10)\n",
        "\n",
        "    def forward(self, x):\n",
        "        out = self.layer1(x)\n",
        "        out = self.layer2(out)\n",
        "        out = out.reshape(out.size(0), -1)\n",
        "        out = self.fc1(out)\n",
        "        out = self.fc2(out)\n",
        "        return out"
      ],
      "metadata": {
        "id": "yVv8n4ZRLRm_"
      },
      "execution_count": 6,
      "outputs": []
    },
    {
      "cell_type": "markdown",
      "source": [
        "Instancia e move o modelo para device ANTES de criar o otimizador"
      ],
      "metadata": {
        "id": "_0Ca5vQfLX73"
      }
    },
    {
      "cell_type": "code",
      "source": [
        "model = ConvNet().to(device)\n",
        "print(model)\n",
        "def count_parameters(model):\n",
        "    return sum(p.numel() for p in model.parameters() if p.requires_grad)\n",
        "print(\"Parâmetros treináveis:\", count_parameters(model))"
      ],
      "metadata": {
        "id": "pFTeJyG6LYKz",
        "colab": {
          "base_uri": "https://localhost:8080/"
        },
        "outputId": "4420251a-717d-4e33-b27f-9fe7b3045dd1"
      },
      "execution_count": 7,
      "outputs": [
        {
          "output_type": "stream",
          "name": "stdout",
          "text": [
            "ConvNet(\n",
            "  (layer1): Sequential(\n",
            "    (0): Conv2d(1, 32, kernel_size=(5, 5), stride=(1, 1), padding=(2, 2))\n",
            "    (1): ReLU()\n",
            "    (2): MaxPool2d(kernel_size=2, stride=2, padding=0, dilation=1, ceil_mode=False)\n",
            "  )\n",
            "  (layer2): Sequential(\n",
            "    (0): Conv2d(32, 64, kernel_size=(5, 5), stride=(1, 1), padding=(2, 2))\n",
            "    (1): ReLU()\n",
            "    (2): MaxPool2d(kernel_size=2, stride=2, padding=0, dilation=1, ceil_mode=False)\n",
            "  )\n",
            "  (fc1): Sequential(\n",
            "    (0): Linear(in_features=3136, out_features=1000, bias=True)\n",
            "    (1): ReLU()\n",
            "  )\n",
            "  (fc2): Linear(in_features=1000, out_features=10, bias=True)\n",
            ")\n",
            "Parâmetros treináveis: 3199106\n"
          ]
        }
      ]
    },
    {
      "cell_type": "markdown",
      "source": [
        " Loss, hyperparams e otimizador (otimizador depois do model.to)"
      ],
      "metadata": {
        "id": "1qHfBG-mLgaA"
      }
    },
    {
      "cell_type": "code",
      "source": [
        "loss_fn = nn.CrossEntropyLoss()\n",
        "learning_rate = 0.001\n",
        "epochs = 6\n",
        "optimizer = Adam(model.parameters(), lr=learning_rate)\n",
        "#epochs = 15 # Para usar o SGD\n",
        "#optimizer = torch.optim.SGD(model.parameters(), lr=0.01, momentum=0.9)\n",
        "#optimizer = torch.optim.AdamW(model.parameters(), lr=0.001, weight_decay=1e-4)\n",
        "#scheduler = torch.optim.lr_scheduler.ReduceLROnPlateau(optimizer, mode='min', factor=0.5, patience=2)\n",
        "torch.backends.cudnn.benchmark = True if device.type == \"cuda\" else False"
      ],
      "metadata": {
        "id": "DAvcH2V_LnUK"
      },
      "execution_count": 8,
      "outputs": []
    },
    {
      "cell_type": "markdown",
      "source": [
        "Loop para o treinamento e validação por época, com lista para armazenar o histórico e variáveis para salvar o melhor modelo."
      ],
      "metadata": {
        "id": "NR0JxoOPlbQ8"
      }
    },
    {
      "cell_type": "code",
      "source": [
        "#Listas para o histórico\n",
        "train_losses = []\n",
        "train_accuracies = []\n",
        "val_losses = []\n",
        "val_accuracies = []\n",
        "\n",
        "#Salvar o melhor modelo\n",
        "best_val_acc = 0.0\n",
        "best_model_path = 'best_mnist_cnn_model.pth'\n",
        "\n",
        "\n",
        "total_step = len(train_loader)\n",
        "\n",
        "for epoch in range(epochs):\n",
        "    model.train()\n",
        "    running_loss, running_correct, running_total = 0.0, 0, 0\n",
        "\n",
        "    for i, (images, labels) in enumerate(train_loader):\n",
        "        images = images.to(device, non_blocking=True)\n",
        "        labels = labels.to(device, non_blocking=True)\n",
        "\n",
        "        # forward + loss\n",
        "        outputs = model(images)\n",
        "        loss = loss_fn(outputs, labels)\n",
        "\n",
        "        # backward + update\n",
        "        optimizer.zero_grad()\n",
        "        loss.backward()\n",
        "        optimizer.step()\n",
        "\n",
        "        # métricas do step\n",
        "        total = labels.size(0)\n",
        "        predicted = outputs.argmax(dim=1)\n",
        "        correct = (predicted == labels).sum().item()\n",
        "        acc = 100 * correct / total\n",
        "\n",
        "        running_loss += loss.item()\n",
        "        running_correct += correct\n",
        "        running_total += total\n",
        "\n",
        "        if (i + 1) % 100 == 0:\n",
        "            print(f\"Época [{epoch+1}/{epochs}], \"\n",
        "                  f\"Step [{i+1}/{total_step}], \"\n",
        "                  f\"Loss: {loss.item():.4f}, \"\n",
        "                  f\"Acc: {acc:.2f}%\")\n",
        "\n",
        "    # ===== Calcular Métricas =====\n",
        "    train_epoch_loss = running_loss / len(train_loader)\n",
        "    train_epoch_acc = 100 * running_correct / running_total\n",
        "\n",
        "    train_losses.append(train_epoch_loss)\n",
        "    train_accuracies.append(train_epoch_acc)\n",
        "\n",
        "    # ===== Validação ao fim da época =====\n",
        "    model.eval()\n",
        "    val_loss, val_correct, val_total = 0.0, 0, 0\n",
        "    with torch.no_grad():\n",
        "        for images, labels in val_loader:\n",
        "            images = images.to(device, non_blocking=True)\n",
        "            labels = labels.to(device, non_blocking=True)\n",
        "\n",
        "            outputs = model(images)\n",
        "            loss = loss_fn(outputs, labels)\n",
        "\n",
        "            val_loss += loss.item()\n",
        "            predicted = outputs.argmax(dim=1)\n",
        "            val_total += labels.size(0)\n",
        "            val_correct += (predicted == labels).sum().item()\n",
        "\n",
        "    val_loss /= len(val_loader)\n",
        "    val_acc = 100 * val_correct / val_total\n",
        "\n",
        "    val_losses.append(val_loss)\n",
        "    val_accuracies.append(val_acc)\n",
        "\n",
        "    #scheduler.step(val_loss)\n",
        "\n",
        "    #===== Salvando o melhor modelo =====\n",
        "    if val_acc > best_val_acc:\n",
        "        best_val_acc = val_acc\n",
        "        torch.save({\n",
        "            'epoch': epoch + 1,\n",
        "            'model_state_dict': model.state_dict(),\n",
        "            'optimizer_state_dict': optimizer.state_dict(),\n",
        "            'best_val_acc': best_val_acc,\n",
        "            'train_loss': train_epoch_loss,\n",
        "            'val_loss': val_loss\n",
        "        }, best_model_path)\n",
        "\n",
        "    print(f\"===== Fim da Época {epoch+1} =====\")\n",
        "    print(f\"Validação -> Loss: {val_loss:.4f}, Acc: {val_acc:.2f}%\")\n",
        "    print(\"==========================\")\n"
      ],
      "metadata": {
        "id": "ee0kVd3GLw0H",
        "colab": {
          "base_uri": "https://localhost:8080/"
        },
        "outputId": "eb89e622-c804-40f3-9bc2-a9d384a277f7"
      },
      "execution_count": 9,
      "outputs": [
        {
          "output_type": "stream",
          "name": "stdout",
          "text": [
            "Época [1/6], Step [100/1500], Loss: 0.0715, Acc: 100.00%\n",
            "Época [1/6], Step [200/1500], Loss: 0.1186, Acc: 96.88%\n",
            "Época [1/6], Step [300/1500], Loss: 0.1291, Acc: 96.88%\n",
            "Época [1/6], Step [400/1500], Loss: 0.0377, Acc: 100.00%\n",
            "Época [1/6], Step [500/1500], Loss: 0.0075, Acc: 100.00%\n",
            "Época [1/6], Step [600/1500], Loss: 0.0329, Acc: 100.00%\n",
            "Época [1/6], Step [700/1500], Loss: 0.0025, Acc: 100.00%\n",
            "Época [1/6], Step [800/1500], Loss: 0.0021, Acc: 100.00%\n",
            "Época [1/6], Step [900/1500], Loss: 0.0124, Acc: 100.00%\n",
            "Época [1/6], Step [1000/1500], Loss: 0.0121, Acc: 100.00%\n",
            "Época [1/6], Step [1100/1500], Loss: 0.0812, Acc: 93.75%\n",
            "Época [1/6], Step [1200/1500], Loss: 0.0101, Acc: 100.00%\n",
            "Época [1/6], Step [1300/1500], Loss: 0.1947, Acc: 93.75%\n",
            "Época [1/6], Step [1400/1500], Loss: 0.2018, Acc: 90.62%\n",
            "Época [1/6], Step [1500/1500], Loss: 0.0249, Acc: 100.00%\n",
            "===== Fim da Época 1 =====\n",
            "Validação -> Loss: 0.0490, Acc: 98.46%\n",
            "==========================\n",
            "Época [2/6], Step [100/1500], Loss: 0.0214, Acc: 100.00%\n",
            "Época [2/6], Step [200/1500], Loss: 0.0214, Acc: 100.00%\n",
            "Época [2/6], Step [300/1500], Loss: 0.0163, Acc: 100.00%\n",
            "Época [2/6], Step [400/1500], Loss: 0.0517, Acc: 100.00%\n",
            "Época [2/6], Step [500/1500], Loss: 0.0365, Acc: 100.00%\n",
            "Época [2/6], Step [600/1500], Loss: 0.0056, Acc: 100.00%\n",
            "Época [2/6], Step [700/1500], Loss: 0.0016, Acc: 100.00%\n",
            "Época [2/6], Step [800/1500], Loss: 0.2157, Acc: 96.88%\n",
            "Época [2/6], Step [900/1500], Loss: 0.1323, Acc: 96.88%\n",
            "Época [2/6], Step [1000/1500], Loss: 0.1035, Acc: 96.88%\n",
            "Época [2/6], Step [1100/1500], Loss: 0.0020, Acc: 100.00%\n",
            "Época [2/6], Step [1200/1500], Loss: 0.1398, Acc: 96.88%\n",
            "Época [2/6], Step [1300/1500], Loss: 0.0232, Acc: 100.00%\n",
            "Época [2/6], Step [1400/1500], Loss: 0.0370, Acc: 100.00%\n",
            "Época [2/6], Step [1500/1500], Loss: 0.0023, Acc: 100.00%\n",
            "===== Fim da Época 2 =====\n",
            "Validação -> Loss: 0.0404, Acc: 98.92%\n",
            "==========================\n",
            "Época [3/6], Step [100/1500], Loss: 0.0011, Acc: 100.00%\n",
            "Época [3/6], Step [200/1500], Loss: 0.0003, Acc: 100.00%\n",
            "Época [3/6], Step [300/1500], Loss: 0.0135, Acc: 100.00%\n",
            "Época [3/6], Step [400/1500], Loss: 0.0016, Acc: 100.00%\n",
            "Época [3/6], Step [500/1500], Loss: 0.0315, Acc: 100.00%\n",
            "Época [3/6], Step [600/1500], Loss: 0.0151, Acc: 100.00%\n",
            "Época [3/6], Step [700/1500], Loss: 0.0001, Acc: 100.00%\n",
            "Época [3/6], Step [800/1500], Loss: 0.0876, Acc: 96.88%\n",
            "Época [3/6], Step [900/1500], Loss: 0.0621, Acc: 96.88%\n",
            "Época [3/6], Step [1000/1500], Loss: 0.0625, Acc: 96.88%\n",
            "Época [3/6], Step [1100/1500], Loss: 0.0030, Acc: 100.00%\n",
            "Época [3/6], Step [1200/1500], Loss: 0.0010, Acc: 100.00%\n",
            "Época [3/6], Step [1300/1500], Loss: 0.0008, Acc: 100.00%\n",
            "Época [3/6], Step [1400/1500], Loss: 0.0020, Acc: 100.00%\n",
            "Época [3/6], Step [1500/1500], Loss: 0.0689, Acc: 96.88%\n",
            "===== Fim da Época 3 =====\n",
            "Validação -> Loss: 0.0407, Acc: 98.90%\n",
            "==========================\n",
            "Época [4/6], Step [100/1500], Loss: 0.0199, Acc: 100.00%\n",
            "Época [4/6], Step [200/1500], Loss: 0.0013, Acc: 100.00%\n",
            "Época [4/6], Step [300/1500], Loss: 0.0022, Acc: 100.00%\n",
            "Época [4/6], Step [400/1500], Loss: 0.0001, Acc: 100.00%\n",
            "Época [4/6], Step [500/1500], Loss: 0.0003, Acc: 100.00%\n",
            "Época [4/6], Step [600/1500], Loss: 0.0001, Acc: 100.00%\n",
            "Época [4/6], Step [700/1500], Loss: 0.0060, Acc: 100.00%\n",
            "Época [4/6], Step [800/1500], Loss: 0.0004, Acc: 100.00%\n",
            "Época [4/6], Step [900/1500], Loss: 0.0210, Acc: 100.00%\n",
            "Época [4/6], Step [1000/1500], Loss: 0.0774, Acc: 96.88%\n",
            "Época [4/6], Step [1100/1500], Loss: 0.0130, Acc: 100.00%\n",
            "Época [4/6], Step [1200/1500], Loss: 0.0038, Acc: 100.00%\n",
            "Época [4/6], Step [1300/1500], Loss: 0.0003, Acc: 100.00%\n",
            "Época [4/6], Step [1400/1500], Loss: 0.0056, Acc: 100.00%\n",
            "Época [4/6], Step [1500/1500], Loss: 0.0038, Acc: 100.00%\n",
            "===== Fim da Época 4 =====\n",
            "Validação -> Loss: 0.0561, Acc: 98.86%\n",
            "==========================\n",
            "Época [5/6], Step [100/1500], Loss: 0.0412, Acc: 96.88%\n",
            "Época [5/6], Step [200/1500], Loss: 0.0172, Acc: 100.00%\n",
            "Época [5/6], Step [300/1500], Loss: 0.0000, Acc: 100.00%\n",
            "Época [5/6], Step [400/1500], Loss: 0.0094, Acc: 100.00%\n",
            "Época [5/6], Step [500/1500], Loss: 0.0067, Acc: 100.00%\n",
            "Época [5/6], Step [600/1500], Loss: 0.0000, Acc: 100.00%\n",
            "Época [5/6], Step [700/1500], Loss: 0.0020, Acc: 100.00%\n",
            "Época [5/6], Step [800/1500], Loss: 0.0793, Acc: 96.88%\n",
            "Época [5/6], Step [900/1500], Loss: 0.0003, Acc: 100.00%\n",
            "Época [5/6], Step [1000/1500], Loss: 0.0063, Acc: 100.00%\n",
            "Época [5/6], Step [1100/1500], Loss: 0.0005, Acc: 100.00%\n",
            "Época [5/6], Step [1200/1500], Loss: 0.0045, Acc: 100.00%\n",
            "Época [5/6], Step [1300/1500], Loss: 0.0021, Acc: 100.00%\n",
            "Época [5/6], Step [1400/1500], Loss: 0.0859, Acc: 96.88%\n",
            "Época [5/6], Step [1500/1500], Loss: 0.0000, Acc: 100.00%\n",
            "===== Fim da Época 5 =====\n",
            "Validação -> Loss: 0.0421, Acc: 99.01%\n",
            "==========================\n",
            "Época [6/6], Step [100/1500], Loss: 0.0000, Acc: 100.00%\n",
            "Época [6/6], Step [200/1500], Loss: 0.0055, Acc: 100.00%\n",
            "Época [6/6], Step [300/1500], Loss: 0.0630, Acc: 96.88%\n",
            "Época [6/6], Step [400/1500], Loss: 0.0005, Acc: 100.00%\n",
            "Época [6/6], Step [500/1500], Loss: 0.0000, Acc: 100.00%\n",
            "Época [6/6], Step [600/1500], Loss: 0.0108, Acc: 100.00%\n",
            "Época [6/6], Step [700/1500], Loss: 0.0433, Acc: 96.88%\n",
            "Época [6/6], Step [800/1500], Loss: 0.0000, Acc: 100.00%\n",
            "Época [6/6], Step [900/1500], Loss: 0.0001, Acc: 100.00%\n",
            "Época [6/6], Step [1000/1500], Loss: 0.0053, Acc: 100.00%\n",
            "Época [6/6], Step [1100/1500], Loss: 0.0000, Acc: 100.00%\n",
            "Época [6/6], Step [1200/1500], Loss: 0.0091, Acc: 100.00%\n",
            "Época [6/6], Step [1300/1500], Loss: 0.0000, Acc: 100.00%\n",
            "Época [6/6], Step [1400/1500], Loss: 0.0002, Acc: 100.00%\n",
            "Época [6/6], Step [1500/1500], Loss: 0.0002, Acc: 100.00%\n",
            "===== Fim da Época 6 =====\n",
            "Validação -> Loss: 0.0528, Acc: 98.95%\n",
            "==========================\n"
          ]
        }
      ]
    },
    {
      "cell_type": "markdown",
      "source": [
        " Avaliação Total"
      ],
      "metadata": {
        "id": "v8cnm7qhL1dj"
      }
    },
    {
      "cell_type": "code",
      "source": [
        "model.eval()\n",
        "with torch.no_grad():\n",
        "    correct = 0\n",
        "    total = 0\n",
        "    for images, labels in test_loader:\n",
        "        images = images.to(device, non_blocking=True)\n",
        "        labels = labels.to(device, non_blocking=True)\n",
        "        outputs = model(images)\n",
        "        predicted = outputs.argmax(dim=1)\n",
        "        total += labels.size(0)\n",
        "        correct += (predicted == labels).sum().item()\n",
        "\n",
        "    print(f\"Acurácia do Modelo em {total} imagens de teste: {100 * correct / total:.3f}%\")"
      ],
      "metadata": {
        "id": "wEkUF95DL4iS",
        "colab": {
          "base_uri": "https://localhost:8080/"
        },
        "outputId": "4e2b1451-3bf1-4931-91d7-fc730ffa2f0a"
      },
      "execution_count": 10,
      "outputs": [
        {
          "output_type": "stream",
          "name": "stdout",
          "text": [
            "Acurácia do Modelo em 10000 imagens de teste: 99.040%\n"
          ]
        }
      ]
    },
    {
      "cell_type": "markdown",
      "source": [
        "**Exercício 3 - Gráficos usando as listas de históricos**"
      ],
      "metadata": {
        "id": "jgqflG0gLwET"
      }
    },
    {
      "cell_type": "markdown",
      "source": [
        "Gráfico de Perda:"
      ],
      "metadata": {
        "id": "d5-Ac1fzmbj7"
      }
    },
    {
      "cell_type": "code",
      "source": [
        "epochs_range = range(1, epochs + 1)\n",
        "\n",
        "plt.figure(figsize=(12, 5))\n",
        "\n",
        "plt.subplot(1, 2, 1)\n",
        "plt.plot(epochs_range, train_losses, 'b-', label='Treino', marker='o')\n",
        "plt.plot(epochs_range, val_losses, 'r-', label='Validação', marker='s')\n",
        "plt.title('Perda do Modelo')\n",
        "plt.xlabel('Época')\n",
        "plt.ylabel('Loss')\n",
        "plt.legend()\n",
        "plt.grid(True, alpha=0.3)"
      ],
      "metadata": {
        "colab": {
          "base_uri": "https://localhost:8080/",
          "height": 489
        },
        "id": "QBZiRitymflL",
        "outputId": "efe69921-6c9a-4857-d78d-fdc019a9a255"
      },
      "execution_count": 11,
      "outputs": [
        {
          "output_type": "display_data",
          "data": {
            "text/plain": [
              "<Figure size 1200x500 with 1 Axes>"
            ],
            "image/png": "[encoded data removed]"
          },
          "metadata": {}
        }
      ]
    },
    {
      "cell_type": "markdown",
      "source": [
        "Gráfico de acurácia:"
      ],
      "metadata": {
        "id": "A1ejUGU9mrqU"
      }
    },
    {
      "cell_type": "code",
      "source": [
        "\n",
        "plt.subplot(1, 2, 2)\n",
        "plt.plot(epochs_range, train_accuracies, 'b-', label='Treino', marker='o')\n",
        "plt.plot(epochs_range, val_accuracies, 'r-', label='Validação', marker='s')\n",
        "plt.title('Acurácia do Modelo')\n",
        "plt.xlabel('Época')\n",
        "plt.ylabel('Acurácia (%)')\n",
        "plt.legend()\n",
        "plt.grid(True, alpha=0.3)\n",
        "\n",
        "plt.tight_layout()\n",
        "plt.show()"
      ],
      "metadata": {
        "colab": {
          "base_uri": "https://localhost:8080/",
          "height": 487
        },
        "id": "B_4LE6XOmxXv",
        "outputId": "7169b498-5959-4bad-9a83-05d37d3d9507"
      },
      "execution_count": 12,
      "outputs": [
        {
          "output_type": "display_data",
          "data": {
            "text/plain": [
              "<Figure size 640x480 with 1 Axes>"
            ],
            "image/png": "[encoded data removed]"
          },
          "metadata": {}
        }
      ]
    },
    {
      "cell_type": "markdown",
      "source": [
        "**Exercício 4 - Como carregar o melhor modelo:**"
      ],
      "metadata": {
        "id": "sWnRKXZ-r8XK"
      }
    },
    {
      "cell_type": "code",
      "source": [
        "loaded_model = ConvNet().to(device)\n",
        "\n",
        "# Carregando o checkpoint\n",
        "checkpoint = torch.load(best_model_path, map_location=device)\n",
        "loaded_model.load_state_dict(checkpoint['model_state_dict'])\n",
        "\n",
        "\n",
        "# testando o modelo carregado\n",
        "loaded_model.eval()\n",
        "with torch.no_grad():\n",
        "    correct = 0\n",
        "    total = 0\n",
        "    for images, labels in test_loader:\n",
        "        images = images.to(device, non_blocking=True)\n",
        "        labels = labels.to(device, non_blocking=True)\n",
        "        outputs = loaded_model(images)\n",
        "        predicted = outputs.argmax(dim=1)\n",
        "        total += labels.size(0)\n",
        "        correct += (predicted == labels).sum().item()\n",
        "\n",
        "    loaded_test_acc = 100 * correct / total\n",
        "    print(f\"Acurácia do modelo carregado: {loaded_test_acc:.3f}%\")\n"
      ],
      "metadata": {
        "colab": {
          "base_uri": "https://localhost:8080/"
        },
        "id": "GDj-b2CisGVj",
        "outputId": "0b84c502-d7d9-4a22-c080-b373402c4814"
      },
      "execution_count": 13,
      "outputs": [
        {
          "output_type": "stream",
          "name": "stdout",
          "text": [
            "Acurácia do modelo carregado: 98.980%\n"
          ]
        }
      ]
    }
  ]
}