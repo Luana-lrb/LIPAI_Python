{
  "nbformat": 4,
  "nbformat_minor": 0,
  "metadata": {
    "colab": {
      "provenance": [],
      "gpuType": "T4",
      "authorship_tag": "ABX9TyPw+w4I2jvL8oP0meGsVOsI",
      "include_colab_link": true
    },
    "kernelspec": {
      "name": "python3",
      "display_name": "Python 3"
    },
    "language_info": {
      "name": "python"
    },
    "accelerator": "GPU"
  },
  "cells": [
    {
      "cell_type": "markdown",
      "metadata": {
        "id": "view-in-github",
        "colab_type": "text"
      },
      "source": [
        "<a href=\"https://colab.research.google.com/github/Luana-lrb/LIPAI_Python/blob/main/onboarding/src/semana_8/Fashion_MNIST.ipynb\" target=\"_parent\"><img src=\"https://colab.research.google.com/assets/colab-badge.svg\" alt=\"Open In Colab\"/></a>"
      ]
    },
    {
      "cell_type": "markdown",
      "source": [
        "# **Explorando o dataset Fashion-MNIST para classificação**"
      ],
      "metadata": {
        "id": "CaMGiLy9F9fc"
      }
    },
    {
      "cell_type": "markdown",
      "source": [
        "Importando bibliotecas necessárias:"
      ],
      "metadata": {
        "id": "jffzPlybJvgw"
      }
    },
    {
      "cell_type": "code",
      "execution_count": 21,
      "metadata": {
        "id": "jXgy82vKJYi7"
      },
      "outputs": [],
      "source": [
        "import torch\n",
        "import torch.nn as nn\n",
        "from torch.optim import Adam\n",
        "from torch.utils.data import DataLoader,random_split\n",
        "import torchvision\n",
        "from torchvision import transforms\n",
        "import matplotlib.pyplot as plt"
      ]
    },
    {
      "cell_type": "markdown",
      "source": [
        "Configurando para usar GPU:"
      ],
      "metadata": {
        "id": "--VyCtjuGlv_"
      }
    },
    {
      "cell_type": "code",
      "source": [
        "device = torch.device(\"cuda\" if torch.cuda.is_available() else \"cpu\")\n",
        "print(\"Treinando em:\", device)\n",
        "if device.type == \"cuda\":\n",
        "    print(\"GPU:\", torch.cuda.get_device_name(0))"
      ],
      "metadata": {
        "colab": {
          "base_uri": "https://localhost:8080/"
        },
        "id": "4A9FbwiZKgEz",
        "outputId": "aea9b15d-c137-4c40-9aa4-168218714f8e"
      },
      "execution_count": 22,
      "outputs": [
        {
          "output_type": "stream",
          "name": "stdout",
          "text": [
            "Treinando em: cuda\n",
            "GPU: Tesla T4\n"
          ]
        }
      ]
    },
    {
      "cell_type": "markdown",
      "source": [
        "Transform e datasets:"
      ],
      "metadata": {
        "id": "bVfv_MmyKtJo"
      }
    },
    {
      "cell_type": "code",
      "source": [
        "trans = transforms.Compose([\n",
        "    transforms.ToTensor(),\n",
        "    transforms.Normalize((0.1307,), (0.3081,))\n",
        "])\n",
        "\n",
        "root_path = '/home/storopoli/Downloads'  # Está funcionando assim\n",
        "train_dataset_full = torchvision.datasets.FashionMNIST(root=root_path, train=True, transform=trans, download=True)\n",
        "test_dataset  = torchvision.datasets.FashionMNIST(root=root_path, train=False, transform=trans)\n"
      ],
      "metadata": {
        "id": "DU1mPxEoKxeH"
      },
      "execution_count": 23,
      "outputs": []
    },
    {
      "cell_type": "markdown",
      "source": [
        "Dividindo em treino e validação"
      ],
      "metadata": {
        "id": "21wDSSD7Ht83"
      }
    },
    {
      "cell_type": "code",
      "source": [
        "train_size = int(0.8 * len(train_dataset_full))   # 80% treino\n",
        "val_size   = len(train_dataset_full) - train_size # 20% validação\n",
        "train_dataset, val_dataset = random_split(train_dataset_full, [train_size, val_size])"
      ],
      "metadata": {
        "id": "CjNHYUFzfJEy"
      },
      "execution_count": 24,
      "outputs": []
    },
    {
      "cell_type": "code",
      "source": [
        "batch_size = 32\n",
        "num_workers = 0  # ajuste conforme sua máquina; no Windows usar 0 às vezes\n",
        "pin_memory = True if device.type == \"cuda\" else False\n",
        "\n",
        "train_loader = DataLoader(train_dataset, batch_size=batch_size, shuffle=True,\n",
        "                          num_workers=num_workers, pin_memory=pin_memory)\n",
        "val_loader   = DataLoader(val_dataset, batch_size=batch_size, shuffle=False,\n",
        "                          num_workers=num_workers, pin_memory=pin_memory)\n",
        "test_loader  = DataLoader(test_dataset,  batch_size=batch_size, shuffle=False,\n",
        "                          num_workers=num_workers, pin_memory=pin_memory)\n",
        "\n"
      ],
      "metadata": {
        "id": "erUyY3vfLEXI"
      },
      "execution_count": 25,
      "outputs": []
    },
    {
      "cell_type": "code",
      "source": [
        "train_dataset_full"
      ],
      "metadata": {
        "colab": {
          "base_uri": "https://localhost:8080/"
        },
        "id": "DTPOLgCNIGjH",
        "outputId": "9fbf3f30-6baa-4199-e0dd-ac7c1833ff4f"
      },
      "execution_count": 26,
      "outputs": [
        {
          "output_type": "execute_result",
          "data": {
            "text/plain": [
              "Dataset FashionMNIST\n",
              "    Number of datapoints: 60000\n",
              "    Root location: /home/storopoli/Downloads\n",
              "    Split: Train\n",
              "    StandardTransform\n",
              "Transform: Compose(\n",
              "               ToTensor()\n",
              "               Normalize(mean=(0.1307,), std=(0.3081,))\n",
              "           )"
            ]
          },
          "metadata": {},
          "execution_count": 26
        }
      ]
    },
    {
      "cell_type": "code",
      "source": [
        "test_dataset"
      ],
      "metadata": {
        "colab": {
          "base_uri": "https://localhost:8080/"
        },
        "id": "j3ySliXzIOu3",
        "outputId": "92ed8323-28fd-47d6-c1ff-a645e51bcfc4"
      },
      "execution_count": 27,
      "outputs": [
        {
          "output_type": "execute_result",
          "data": {
            "text/plain": [
              "Dataset FashionMNIST\n",
              "    Number of datapoints: 10000\n",
              "    Root location: /home/storopoli/Downloads\n",
              "    Split: Test\n",
              "    StandardTransform\n",
              "Transform: Compose(\n",
              "               ToTensor()\n",
              "               Normalize(mean=(0.1307,), std=(0.3081,))\n",
              "           )"
            ]
          },
          "metadata": {},
          "execution_count": 27
        }
      ]
    },
    {
      "cell_type": "markdown",
      "source": [
        "O modelo, conforme o utilizado no outro dataset:"
      ],
      "metadata": {
        "id": "V9n9TiXOIZNL"
      }
    },
    {
      "cell_type": "code",
      "source": [
        "class ConvNet(nn.Module):\n",
        "    def __init__(self):\n",
        "        super(ConvNet, self).__init__()\n",
        "        self.layer1 = nn.Sequential(\n",
        "            nn.Conv2d(1, 32, kernel_size=5, stride=1, padding=2),\n",
        "            nn.ReLU(),\n",
        "            nn.MaxPool2d(kernel_size=2, stride=2)\n",
        "        )\n",
        "        self.layer2 = nn.Sequential(\n",
        "            nn.Conv2d(32, 64, kernel_size=5, stride=1, padding=2),\n",
        "            nn.ReLU(),\n",
        "            nn.MaxPool2d(kernel_size=2, stride=2)\n",
        "        )\n",
        "        self.fc1 = nn.Sequential(\n",
        "            nn.Linear(7 * 7 * 64, 1000),\n",
        "            nn.ReLU()\n",
        "        )\n",
        "        self.fc2 = nn.Linear(1000, 10)\n",
        "\n",
        "    def forward(self, x):\n",
        "        out = self.layer1(x)\n",
        "        out = self.layer2(out)\n",
        "        out = out.reshape(out.size(0), -1)\n",
        "        out = self.fc1(out)\n",
        "        out = self.fc2(out)\n",
        "        return out"
      ],
      "metadata": {
        "id": "yVv8n4ZRLRm_"
      },
      "execution_count": 28,
      "outputs": []
    },
    {
      "cell_type": "code",
      "source": [
        "model = ConvNet().to(device)\n",
        "print(model)\n",
        "def count_parameters(model):\n",
        "    return sum(p.numel() for p in model.parameters() if p.requires_grad)\n",
        "print(\"Parâmetros treináveis:\", count_parameters(model))"
      ],
      "metadata": {
        "id": "pFTeJyG6LYKz",
        "colab": {
          "base_uri": "https://localhost:8080/"
        },
        "outputId": "cbd67780-37d9-4b05-ef97-dc6108f14df7"
      },
      "execution_count": 29,
      "outputs": [
        {
          "output_type": "stream",
          "name": "stdout",
          "text": [
            "ConvNet(\n",
            "  (layer1): Sequential(\n",
            "    (0): Conv2d(1, 32, kernel_size=(5, 5), stride=(1, 1), padding=(2, 2))\n",
            "    (1): ReLU()\n",
            "    (2): MaxPool2d(kernel_size=2, stride=2, padding=0, dilation=1, ceil_mode=False)\n",
            "  )\n",
            "  (layer2): Sequential(\n",
            "    (0): Conv2d(32, 64, kernel_size=(5, 5), stride=(1, 1), padding=(2, 2))\n",
            "    (1): ReLU()\n",
            "    (2): MaxPool2d(kernel_size=2, stride=2, padding=0, dilation=1, ceil_mode=False)\n",
            "  )\n",
            "  (fc1): Sequential(\n",
            "    (0): Linear(in_features=3136, out_features=1000, bias=True)\n",
            "    (1): ReLU()\n",
            "  )\n",
            "  (fc2): Linear(in_features=1000, out_features=10, bias=True)\n",
            ")\n",
            "Parâmetros treináveis: 3199106\n"
          ]
        }
      ]
    },
    {
      "cell_type": "code",
      "source": [
        "loss_fn = nn.CrossEntropyLoss()\n",
        "learning_rate = 0.001\n",
        "epochs = 10\n",
        "optimizer = Adam(model.parameters(), lr=learning_rate)\n",
        "torch.backends.cudnn.benchmark = True if device.type == \"cuda\" else False"
      ],
      "metadata": {
        "id": "DAvcH2V_LnUK"
      },
      "execution_count": 30,
      "outputs": []
    },
    {
      "cell_type": "markdown",
      "source": [
        "Treinamento"
      ],
      "metadata": {
        "id": "zqbPgfdiI3_T"
      }
    },
    {
      "cell_type": "code",
      "source": [
        "#Listas para o histórico\n",
        "train_losses = []\n",
        "train_accuracies = []\n",
        "val_losses = []\n",
        "val_accuracies = []\n",
        "\n",
        "#Salvar o melhor modelo\n",
        "best_val_acc = 0.0\n",
        "best_model_path = 'best_mnist_cnn_model.pth'\n",
        "\n",
        "\n",
        "total_step = len(train_loader)\n",
        "\n",
        "for epoch in range(epochs):\n",
        "    model.train()\n",
        "    running_loss, running_correct, running_total = 0.0, 0, 0\n",
        "\n",
        "    for i, (images, labels) in enumerate(train_loader):\n",
        "        images = images.to(device, non_blocking=True)\n",
        "        labels = labels.to(device, non_blocking=True)\n",
        "\n",
        "        # forward + loss\n",
        "        outputs = model(images)\n",
        "        loss = loss_fn(outputs, labels)\n",
        "\n",
        "        # backward + update\n",
        "        optimizer.zero_grad()\n",
        "        loss.backward()\n",
        "        optimizer.step()\n",
        "\n",
        "        # métricas do step\n",
        "        total = labels.size(0)\n",
        "        predicted = outputs.argmax(dim=1)\n",
        "        correct = (predicted == labels).sum().item()\n",
        "        acc = 100 * correct / total\n",
        "\n",
        "        running_loss += loss.item()\n",
        "        running_correct += correct\n",
        "        running_total += total\n",
        "\n",
        "        if (i + 1) % 100 == 0:\n",
        "            print(f\"Época [{epoch+1}/{epochs}], \"\n",
        "                  f\"Step [{i+1}/{total_step}], \"\n",
        "                  f\"Loss: {loss.item():.4f}, \"\n",
        "                  f\"Acc: {acc:.2f}%\")\n",
        "\n",
        "    # ===== Calcular Métricas =====\n",
        "    train_epoch_loss = running_loss / len(train_loader)\n",
        "    train_epoch_acc = 100 * running_correct / running_total\n",
        "\n",
        "    train_losses.append(train_epoch_loss)\n",
        "    train_accuracies.append(train_epoch_acc)\n",
        "\n",
        "    # ===== Validação ao fim da época =====\n",
        "    model.eval()\n",
        "    val_loss, val_correct, val_total = 0.0, 0, 0\n",
        "    with torch.no_grad():\n",
        "        for images, labels in val_loader:\n",
        "            images = images.to(device, non_blocking=True)\n",
        "            labels = labels.to(device, non_blocking=True)\n",
        "\n",
        "            outputs = model(images)\n",
        "            loss = loss_fn(outputs, labels)\n",
        "\n",
        "            val_loss += loss.item()\n",
        "            predicted = outputs.argmax(dim=1)\n",
        "            val_total += labels.size(0)\n",
        "            val_correct += (predicted == labels).sum().item()\n",
        "\n",
        "    val_loss /= len(val_loader)\n",
        "    val_acc = 100 * val_correct / val_total\n",
        "\n",
        "    val_losses.append(val_loss)\n",
        "    val_accuracies.append(val_acc)\n",
        "\n",
        "    #scheduler.step(val_loss)\n",
        "\n",
        "    #===== Salvando o melhor modelo =====\n",
        "    if val_acc > best_val_acc:\n",
        "        best_val_acc = val_acc\n",
        "        torch.save({\n",
        "            'epoch': epoch + 1,\n",
        "            'model_state_dict': model.state_dict(),\n",
        "            'optimizer_state_dict': optimizer.state_dict(),\n",
        "            'best_val_acc': best_val_acc,\n",
        "            'train_loss': train_epoch_loss,\n",
        "            'val_loss': val_loss\n",
        "        }, best_model_path)\n",
        "\n",
        "    print(f\"===== Fim da Época {epoch+1} =====\")\n",
        "    print(f\"Validação -> Loss: {val_loss:.4f}, Acc: {val_acc:.2f}%\")\n",
        "    print(\"==========================\")\n"
      ],
      "metadata": {
        "id": "ee0kVd3GLw0H",
        "colab": {
          "base_uri": "https://localhost:8080/"
        },
        "outputId": "620cf2d8-473a-4e79-fa64-caad59a4f27f"
      },
      "execution_count": 31,
      "outputs": [
        {
          "output_type": "stream",
          "name": "stdout",
          "text": [
            "Época [1/10], Step [100/1500], Loss: 0.4137, Acc: 84.38%\n",
            "Época [1/10], Step [200/1500], Loss: 0.4817, Acc: 84.38%\n",
            "Época [1/10], Step [300/1500], Loss: 0.3844, Acc: 81.25%\n",
            "Época [1/10], Step [400/1500], Loss: 0.4062, Acc: 84.38%\n",
            "Época [1/10], Step [500/1500], Loss: 0.2255, Acc: 87.50%\n",
            "Época [1/10], Step [600/1500], Loss: 0.3994, Acc: 87.50%\n",
            "Época [1/10], Step [700/1500], Loss: 0.3382, Acc: 84.38%\n",
            "Época [1/10], Step [800/1500], Loss: 0.2836, Acc: 87.50%\n",
            "Época [1/10], Step [900/1500], Loss: 0.1979, Acc: 93.75%\n",
            "Época [1/10], Step [1000/1500], Loss: 0.2326, Acc: 87.50%\n",
            "Época [1/10], Step [1100/1500], Loss: 0.5053, Acc: 78.12%\n",
            "Época [1/10], Step [1200/1500], Loss: 0.7433, Acc: 71.88%\n",
            "Época [1/10], Step [1300/1500], Loss: 0.3043, Acc: 87.50%\n",
            "Época [1/10], Step [1400/1500], Loss: 0.5013, Acc: 87.50%\n",
            "Época [1/10], Step [1500/1500], Loss: 0.1288, Acc: 96.88%\n",
            "===== Fim da Época 1 =====\n",
            "Validação -> Loss: 0.2989, Acc: 89.07%\n",
            "==========================\n",
            "Época [2/10], Step [100/1500], Loss: 0.0490, Acc: 100.00%\n",
            "Época [2/10], Step [200/1500], Loss: 0.1259, Acc: 93.75%\n",
            "Época [2/10], Step [300/1500], Loss: 0.2296, Acc: 87.50%\n",
            "Época [2/10], Step [400/1500], Loss: 0.5934, Acc: 75.00%\n",
            "Época [2/10], Step [500/1500], Loss: 0.4643, Acc: 81.25%\n",
            "Época [2/10], Step [600/1500], Loss: 0.4634, Acc: 84.38%\n",
            "Época [2/10], Step [700/1500], Loss: 0.5560, Acc: 84.38%\n",
            "Época [2/10], Step [800/1500], Loss: 0.1480, Acc: 96.88%\n",
            "Época [2/10], Step [900/1500], Loss: 0.2002, Acc: 93.75%\n",
            "Época [2/10], Step [1000/1500], Loss: 0.1491, Acc: 93.75%\n",
            "Época [2/10], Step [1100/1500], Loss: 0.3214, Acc: 87.50%\n",
            "Época [2/10], Step [1200/1500], Loss: 0.1075, Acc: 93.75%\n",
            "Época [2/10], Step [1300/1500], Loss: 0.2008, Acc: 93.75%\n",
            "Época [2/10], Step [1400/1500], Loss: 0.2160, Acc: 90.62%\n",
            "Época [2/10], Step [1500/1500], Loss: 0.0790, Acc: 96.88%\n",
            "===== Fim da Época 2 =====\n",
            "Validação -> Loss: 0.2488, Acc: 90.49%\n",
            "==========================\n",
            "Época [3/10], Step [100/1500], Loss: 0.2360, Acc: 84.38%\n",
            "Época [3/10], Step [200/1500], Loss: 0.3495, Acc: 90.62%\n",
            "Época [3/10], Step [300/1500], Loss: 0.1485, Acc: 96.88%\n",
            "Época [3/10], Step [400/1500], Loss: 0.3421, Acc: 90.62%\n",
            "Época [3/10], Step [500/1500], Loss: 0.1185, Acc: 96.88%\n",
            "Época [3/10], Step [600/1500], Loss: 0.1305, Acc: 93.75%\n",
            "Época [3/10], Step [700/1500], Loss: 0.2014, Acc: 87.50%\n",
            "Época [3/10], Step [800/1500], Loss: 0.2672, Acc: 87.50%\n",
            "Época [3/10], Step [900/1500], Loss: 0.3497, Acc: 90.62%\n",
            "Época [3/10], Step [1000/1500], Loss: 0.1741, Acc: 96.88%\n",
            "Época [3/10], Step [1100/1500], Loss: 0.2834, Acc: 84.38%\n",
            "Época [3/10], Step [1200/1500], Loss: 0.3888, Acc: 81.25%\n",
            "Época [3/10], Step [1300/1500], Loss: 0.4331, Acc: 87.50%\n",
            "Época [3/10], Step [1400/1500], Loss: 0.2840, Acc: 90.62%\n",
            "Época [3/10], Step [1500/1500], Loss: 0.2879, Acc: 84.38%\n",
            "===== Fim da Época 3 =====\n",
            "Validação -> Loss: 0.2286, Acc: 92.03%\n",
            "==========================\n",
            "Época [4/10], Step [100/1500], Loss: 0.3485, Acc: 90.62%\n",
            "Época [4/10], Step [200/1500], Loss: 0.1570, Acc: 90.62%\n",
            "Época [4/10], Step [300/1500], Loss: 0.0406, Acc: 100.00%\n",
            "Época [4/10], Step [400/1500], Loss: 0.1892, Acc: 93.75%\n",
            "Época [4/10], Step [500/1500], Loss: 0.0472, Acc: 100.00%\n",
            "Época [4/10], Step [600/1500], Loss: 0.0731, Acc: 96.88%\n",
            "Época [4/10], Step [700/1500], Loss: 0.1970, Acc: 90.62%\n",
            "Época [4/10], Step [800/1500], Loss: 0.0632, Acc: 96.88%\n",
            "Época [4/10], Step [900/1500], Loss: 0.2968, Acc: 90.62%\n",
            "Época [4/10], Step [1000/1500], Loss: 0.2043, Acc: 90.62%\n",
            "Época [4/10], Step [1100/1500], Loss: 0.1157, Acc: 93.75%\n",
            "Época [4/10], Step [1200/1500], Loss: 0.2054, Acc: 93.75%\n",
            "Época [4/10], Step [1300/1500], Loss: 0.1903, Acc: 90.62%\n",
            "Época [4/10], Step [1400/1500], Loss: 0.0778, Acc: 93.75%\n",
            "Época [4/10], Step [1500/1500], Loss: 0.1870, Acc: 93.75%\n",
            "===== Fim da Época 4 =====\n",
            "Validação -> Loss: 0.2534, Acc: 91.26%\n",
            "==========================\n",
            "Época [5/10], Step [100/1500], Loss: 0.1529, Acc: 90.62%\n",
            "Época [5/10], Step [200/1500], Loss: 0.1775, Acc: 96.88%\n",
            "Época [5/10], Step [300/1500], Loss: 0.1230, Acc: 93.75%\n",
            "Época [5/10], Step [400/1500], Loss: 0.1962, Acc: 96.88%\n",
            "Época [5/10], Step [500/1500], Loss: 0.3082, Acc: 90.62%\n",
            "Época [5/10], Step [600/1500], Loss: 0.2433, Acc: 93.75%\n",
            "Época [5/10], Step [700/1500], Loss: 0.1209, Acc: 93.75%\n",
            "Época [5/10], Step [800/1500], Loss: 0.2648, Acc: 90.62%\n",
            "Época [5/10], Step [900/1500], Loss: 0.0798, Acc: 96.88%\n",
            "Época [5/10], Step [1000/1500], Loss: 0.0875, Acc: 96.88%\n",
            "Época [5/10], Step [1100/1500], Loss: 0.2142, Acc: 93.75%\n",
            "Época [5/10], Step [1200/1500], Loss: 0.1504, Acc: 93.75%\n",
            "Época [5/10], Step [1300/1500], Loss: 0.1192, Acc: 96.88%\n",
            "Época [5/10], Step [1400/1500], Loss: 0.0559, Acc: 100.00%\n",
            "Época [5/10], Step [1500/1500], Loss: 0.2264, Acc: 93.75%\n",
            "===== Fim da Época 5 =====\n",
            "Validação -> Loss: 0.2933, Acc: 90.23%\n",
            "==========================\n",
            "Época [6/10], Step [100/1500], Loss: 0.1541, Acc: 93.75%\n",
            "Época [6/10], Step [200/1500], Loss: 0.1639, Acc: 93.75%\n",
            "Época [6/10], Step [300/1500], Loss: 0.1619, Acc: 93.75%\n",
            "Época [6/10], Step [400/1500], Loss: 0.0632, Acc: 96.88%\n",
            "Época [6/10], Step [500/1500], Loss: 0.1286, Acc: 96.88%\n",
            "Época [6/10], Step [600/1500], Loss: 0.0546, Acc: 96.88%\n",
            "Época [6/10], Step [700/1500], Loss: 0.1156, Acc: 93.75%\n",
            "Época [6/10], Step [800/1500], Loss: 0.0869, Acc: 96.88%\n",
            "Época [6/10], Step [900/1500], Loss: 0.3574, Acc: 90.62%\n",
            "Época [6/10], Step [1000/1500], Loss: 0.1787, Acc: 90.62%\n",
            "Época [6/10], Step [1100/1500], Loss: 0.1497, Acc: 96.88%\n",
            "Época [6/10], Step [1200/1500], Loss: 0.1744, Acc: 90.62%\n",
            "Época [6/10], Step [1300/1500], Loss: 0.0724, Acc: 96.88%\n",
            "Época [6/10], Step [1400/1500], Loss: 0.1785, Acc: 90.62%\n",
            "Época [6/10], Step [1500/1500], Loss: 0.1110, Acc: 96.88%\n",
            "===== Fim da Época 6 =====\n",
            "Validação -> Loss: 0.2516, Acc: 91.78%\n",
            "==========================\n",
            "Época [7/10], Step [100/1500], Loss: 0.1231, Acc: 96.88%\n",
            "Época [7/10], Step [200/1500], Loss: 0.0348, Acc: 100.00%\n",
            "Época [7/10], Step [300/1500], Loss: 0.1732, Acc: 96.88%\n",
            "Época [7/10], Step [400/1500], Loss: 0.1592, Acc: 96.88%\n",
            "Época [7/10], Step [500/1500], Loss: 0.0589, Acc: 96.88%\n",
            "Época [7/10], Step [600/1500], Loss: 0.0463, Acc: 96.88%\n",
            "Época [7/10], Step [700/1500], Loss: 0.1082, Acc: 93.75%\n",
            "Época [7/10], Step [800/1500], Loss: 0.1411, Acc: 93.75%\n",
            "Época [7/10], Step [900/1500], Loss: 0.0727, Acc: 96.88%\n",
            "Época [7/10], Step [1000/1500], Loss: 0.0726, Acc: 96.88%\n",
            "Época [7/10], Step [1100/1500], Loss: 0.0557, Acc: 96.88%\n",
            "Época [7/10], Step [1200/1500], Loss: 0.1088, Acc: 93.75%\n",
            "Época [7/10], Step [1300/1500], Loss: 0.0129, Acc: 100.00%\n",
            "Época [7/10], Step [1400/1500], Loss: 0.2004, Acc: 90.62%\n",
            "Época [7/10], Step [1500/1500], Loss: 0.0096, Acc: 100.00%\n",
            "===== Fim da Época 7 =====\n",
            "Validação -> Loss: 0.2863, Acc: 91.77%\n",
            "==========================\n",
            "Época [8/10], Step [100/1500], Loss: 0.0084, Acc: 100.00%\n",
            "Época [8/10], Step [200/1500], Loss: 0.0197, Acc: 100.00%\n",
            "Época [8/10], Step [300/1500], Loss: 0.0012, Acc: 100.00%\n",
            "Época [8/10], Step [400/1500], Loss: 0.1188, Acc: 96.88%\n",
            "Época [8/10], Step [500/1500], Loss: 0.0325, Acc: 100.00%\n",
            "Época [8/10], Step [600/1500], Loss: 0.0589, Acc: 96.88%\n",
            "Época [8/10], Step [700/1500], Loss: 0.0698, Acc: 96.88%\n",
            "Época [8/10], Step [800/1500], Loss: 0.0342, Acc: 100.00%\n",
            "Época [8/10], Step [900/1500], Loss: 0.0577, Acc: 96.88%\n",
            "Época [8/10], Step [1000/1500], Loss: 0.0739, Acc: 96.88%\n",
            "Época [8/10], Step [1100/1500], Loss: 0.0262, Acc: 100.00%\n",
            "Época [8/10], Step [1200/1500], Loss: 0.0370, Acc: 100.00%\n",
            "Época [8/10], Step [1300/1500], Loss: 0.0246, Acc: 100.00%\n",
            "Época [8/10], Step [1400/1500], Loss: 0.0235, Acc: 100.00%\n",
            "Época [8/10], Step [1500/1500], Loss: 0.1451, Acc: 93.75%\n",
            "===== Fim da Época 8 =====\n",
            "Validação -> Loss: 0.3441, Acc: 91.56%\n",
            "==========================\n",
            "Época [9/10], Step [100/1500], Loss: 0.0025, Acc: 100.00%\n",
            "Época [9/10], Step [200/1500], Loss: 0.1509, Acc: 96.88%\n",
            "Época [9/10], Step [300/1500], Loss: 0.3153, Acc: 93.75%\n",
            "Época [9/10], Step [400/1500], Loss: 0.1271, Acc: 90.62%\n",
            "Época [9/10], Step [500/1500], Loss: 0.1346, Acc: 96.88%\n",
            "Época [9/10], Step [600/1500], Loss: 0.0717, Acc: 96.88%\n",
            "Época [9/10], Step [700/1500], Loss: 0.0663, Acc: 96.88%\n",
            "Época [9/10], Step [800/1500], Loss: 0.1302, Acc: 96.88%\n",
            "Época [9/10], Step [900/1500], Loss: 0.0981, Acc: 96.88%\n",
            "Época [9/10], Step [1000/1500], Loss: 0.0016, Acc: 100.00%\n",
            "Época [9/10], Step [1100/1500], Loss: 0.0330, Acc: 96.88%\n",
            "Época [9/10], Step [1200/1500], Loss: 0.0521, Acc: 96.88%\n",
            "Época [9/10], Step [1300/1500], Loss: 0.0159, Acc: 100.00%\n",
            "Época [9/10], Step [1400/1500], Loss: 0.0163, Acc: 100.00%\n",
            "Época [9/10], Step [1500/1500], Loss: 0.0081, Acc: 100.00%\n",
            "===== Fim da Época 9 =====\n",
            "Validação -> Loss: 0.3800, Acc: 91.26%\n",
            "==========================\n",
            "Época [10/10], Step [100/1500], Loss: 0.0895, Acc: 93.75%\n",
            "Época [10/10], Step [200/1500], Loss: 0.1821, Acc: 90.62%\n",
            "Época [10/10], Step [300/1500], Loss: 0.0453, Acc: 96.88%\n",
            "Época [10/10], Step [400/1500], Loss: 0.0051, Acc: 100.00%\n",
            "Época [10/10], Step [500/1500], Loss: 0.3208, Acc: 93.75%\n",
            "Época [10/10], Step [600/1500], Loss: 0.0040, Acc: 100.00%\n",
            "Época [10/10], Step [700/1500], Loss: 0.0066, Acc: 100.00%\n",
            "Época [10/10], Step [800/1500], Loss: 0.0034, Acc: 100.00%\n",
            "Época [10/10], Step [900/1500], Loss: 0.0275, Acc: 100.00%\n",
            "Época [10/10], Step [1000/1500], Loss: 0.0409, Acc: 96.88%\n",
            "Época [10/10], Step [1100/1500], Loss: 0.0452, Acc: 96.88%\n",
            "Época [10/10], Step [1200/1500], Loss: 0.1053, Acc: 93.75%\n",
            "Época [10/10], Step [1300/1500], Loss: 0.1830, Acc: 96.88%\n",
            "Época [10/10], Step [1400/1500], Loss: 0.0519, Acc: 96.88%\n",
            "Época [10/10], Step [1500/1500], Loss: 0.2588, Acc: 87.50%\n",
            "===== Fim da Época 10 =====\n",
            "Validação -> Loss: 0.3521, Acc: 91.88%\n",
            "==========================\n"
          ]
        }
      ]
    },
    {
      "cell_type": "markdown",
      "source": [
        "Avaliação Total"
      ],
      "metadata": {
        "id": "xRox69W4K9sz"
      }
    },
    {
      "cell_type": "code",
      "source": [
        "model.eval()\n",
        "with torch.no_grad():\n",
        "    correct = 0\n",
        "    total = 0\n",
        "    for images, labels in test_loader:\n",
        "        images = images.to(device, non_blocking=True)\n",
        "        labels = labels.to(device, non_blocking=True)\n",
        "        outputs = model(images)\n",
        "        predicted = outputs.argmax(dim=1)\n",
        "        total += labels.size(0)\n",
        "        correct += (predicted == labels).sum().item()\n",
        "\n",
        "    print(f\"Acurácia do Modelo em {total} imagens de teste: {100 * correct / total:.3f}%\")"
      ],
      "metadata": {
        "id": "wEkUF95DL4iS",
        "colab": {
          "base_uri": "https://localhost:8080/"
        },
        "outputId": "79566c93-600f-4a9e-82c1-95a615a215ba"
      },
      "execution_count": 32,
      "outputs": [
        {
          "output_type": "stream",
          "name": "stdout",
          "text": [
            "Acurácia do Modelo em 10000 imagens de teste: 91.290%\n"
          ]
        }
      ]
    },
    {
      "cell_type": "markdown",
      "source": [
        "Grafico de perda e da acurácia:"
      ],
      "metadata": {
        "id": "SaCn1Qp4LG0v"
      }
    },
    {
      "cell_type": "code",
      "source": [
        "epochs_range = range(1, epochs + 1)\n",
        "\n",
        "plt.figure(figsize=(12, 5))\n",
        "\n",
        "plt.subplot(1, 2, 1)\n",
        "plt.plot(epochs_range, train_losses, 'b-', label='Treino', marker='o')\n",
        "plt.plot(epochs_range, val_losses, 'r-', label='Validação', marker='s')\n",
        "plt.title('Perda do Modelo')\n",
        "plt.xlabel('Época')\n",
        "plt.ylabel('Loss')\n",
        "plt.legend()\n",
        "plt.grid(True, alpha=0.3)"
      ],
      "metadata": {
        "colab": {
          "base_uri": "https://localhost:8080/",
          "height": 489
        },
        "id": "X4H84lIQLK_6",
        "outputId": "00d41560-473b-4cba-9a63-20901557d5d6"
      },
      "execution_count": 33,
      "outputs": [
        {
          "output_type": "display_data",
          "data": {
            "text/plain": [
              "<Figure size 1200x500 with 1 Axes>"
            ],
            "image/png": "[encoded data removed]"
          },
          "metadata": {}
        }
      ]
    },
    {
      "cell_type": "code",
      "source": [
        "\n",
        "plt.subplot(1, 2, 2)\n",
        "plt.plot(epochs_range, train_accuracies, 'b-', label='Treino', marker='o')\n",
        "plt.plot(epochs_range, val_accuracies, 'r-', label='Validação', marker='s')\n",
        "plt.title('Acurácia do Modelo')\n",
        "plt.xlabel('Época')\n",
        "plt.ylabel('Acurácia (%)')\n",
        "plt.legend()\n",
        "plt.grid(True, alpha=0.3)\n",
        "\n",
        "plt.tight_layout()\n",
        "plt.show()"
      ],
      "metadata": {
        "colab": {
          "base_uri": "https://localhost:8080/",
          "height": 487
        },
        "id": "B_4LE6XOmxXv",
        "outputId": "635d8f96-00fb-4685-c1fa-94fd38654d9d"
      },
      "execution_count": 34,
      "outputs": [
        {
          "output_type": "display_data",
          "data": {
            "text/plain": [
              "<Figure size 640x480 with 1 Axes>"
            ],
            "image/png": "[encoded data removed]"
          },
          "metadata": {}
        }
      ]
    }
  ]
}