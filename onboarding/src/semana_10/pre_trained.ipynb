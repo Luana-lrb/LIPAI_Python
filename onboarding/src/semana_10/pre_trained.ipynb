{
  "nbformat": 4,
  "nbformat_minor": 0,
  "metadata": {
    "colab": {
      "provenance": [],
      "gpuType": "T4",
      "include_colab_link": true
    },
    "kernelspec": {
      "name": "python3",
      "display_name": "Python 3"
    },
    "language_info": {
      "name": "python"
    },
    "accelerator": "GPU"
  },
  "cells": [
    {
      "cell_type": "markdown",
      "metadata": {
        "id": "view-in-github",
        "colab_type": "text"
      },
      "source": [
        "<a href=\"https://colab.research.google.com/github/Luana-lrb/LIPAI_Python/blob/main/onboarding/src/semana_10/pre_trained.ipynb\" target=\"_parent\"><img src=\"https://colab.research.google.com/assets/colab-badge.svg\" alt=\"Open In Colab\"/></a>"
      ]
    },
    {
      "cell_type": "markdown",
      "source": [
        "# **Transfer Learning - ResNet18 pré treinada**"
      ],
      "metadata": {
        "id": "npKK76RIJeuL"
      }
    },
    {
      "cell_type": "markdown",
      "source": [
        "Com fins de estudo foi utilizado o dataset  Tiny ImageNet, devido a extensão do ImageNet original."
      ],
      "metadata": {
        "id": "UvuqE8gdwBMX"
      }
    },
    {
      "cell_type": "markdown",
      "source": [
        "Importando bibliotecas necessárias:"
      ],
      "metadata": {
        "id": "jffzPlybJvgw"
      }
    },
    {
      "cell_type": "code",
      "execution_count": null,
      "metadata": {
        "id": "jXgy82vKJYi7"
      },
      "outputs": [],
      "source": [
        "import torch\n",
        "import torch.nn as nn\n",
        "from torch.utils.data import DataLoader\n",
        "from torchvision import datasets, transforms\n",
        "from torchvision.models import resnet18, ResNet18_Weights\n",
        "from tqdm import tqdm\n",
        "import os\n",
        "import zipfile\n",
        "import shutil\n",
        "import urllib.request"
      ]
    },
    {
      "cell_type": "markdown",
      "source": [
        "Device: usa GPU se disponível"
      ],
      "metadata": {
        "id": "PNd9NlVxKaQp"
      }
    },
    {
      "cell_type": "code",
      "source": [
        "device = torch.device(\"cuda\" if torch.cuda.is_available() else \"cpu\")\n",
        "print(\"Treinando em:\", device)\n",
        "if device.type == \"cuda\":\n",
        "    print(\"GPU:\", torch.cuda.get_device_name(0))"
      ],
      "metadata": {
        "colab": {
          "base_uri": "https://localhost:8080/"
        },
        "id": "4A9FbwiZKgEz",
        "outputId": "2f8bf6bb-b6e5-45eb-aa41-e48957cf18fb"
      },
      "execution_count": null,
      "outputs": [
        {
          "output_type": "stream",
          "name": "stdout",
          "text": [
            "Treinando em: cuda\n",
            "GPU: Tesla T4\n"
          ]
        }
      ]
    },
    {
      "cell_type": "markdown",
      "source": [
        "\n",
        "---\n",
        "Função para carregar a Tiny ImageNet:\n",
        "\n",
        "\n"
      ],
      "metadata": {
        "id": "mI0DZMDs6L4W"
      }
    },
    {
      "cell_type": "code",
      "source": [
        "def download_tiny_imagenet():\n",
        "    tiny_imagenet_url = \"http://cs231n.stanford.edu/tiny-imagenet-200.zip\"\n",
        "    data_dir = \"./data\"\n",
        "    zip_path = os.path.join(data_dir, \"tiny-imagenet-200.zip\")\n",
        "    extract_path = os.path.join(data_dir, \"tiny-imagenet-200\")\n",
        "\n",
        "    os.makedirs(data_dir, exist_ok=True)\n",
        "    if os.path.exists(extract_path):\n",
        "        return extract_path\n",
        "    if not os.path.exists(zip_path):\n",
        "        # função pra mostrar o progresso\n",
        "        def download_progress(block_num, block_size, total_size):\n",
        "            downloaded = block_num * block_size\n",
        "            percent = min(downloaded * 100.0 / total_size, 100)\n",
        "            if block_num % 100 == 0:\n",
        "                print(f\"\\rProgresso: {percent:.1f}% ({downloaded / (1024*1024):.1f} MB / {total_size / (1024*1024):.1f} MB)\", end='')\n",
        "\n",
        "        urllib.request.urlretrieve(tiny_imagenet_url, zip_path, download_progress)\n",
        "\n",
        "    # extraindo os arquivos\n",
        "    with zipfile.ZipFile(zip_path, 'r') as zip_ref:\n",
        "        zip_ref.extractall(data_dir)\n",
        "\n",
        "    os.remove(zip_path)\n",
        "\n",
        "    return extract_path\n"
      ],
      "metadata": {
        "id": "OEoBRnU36VZ2"
      },
      "execution_count": null,
      "outputs": []
    },
    {
      "cell_type": "markdown",
      "source": [
        "Função para organizar o diretório de validação do Tiny ImageNet"
      ],
      "metadata": {
        "id": "46eYGlpeyHjG"
      }
    },
    {
      "cell_type": "code",
      "source": [
        "def organize_tiny_imagenet_val(tiny_imagenet_path):\n",
        "    val_dir = os.path.join(tiny_imagenet_path, 'val')\n",
        "    val_annotations = os.path.join(val_dir, 'val_annotations.txt')\n",
        "    images_dir = os.path.join(val_dir, 'images')\n",
        "\n",
        "    if not os.path.exists(images_dir): return\n",
        "\n",
        "    # ler anotações (mapeia imagem -> classe)\n",
        "    img_to_class = {}\n",
        "    with open(val_annotations, 'r') as f:\n",
        "        for line in f:\n",
        "            parts = line.strip().split('\\t')\n",
        "            img_name = parts[0]\n",
        "            class_name = parts[1]\n",
        "            img_to_class[img_name] = class_name\n",
        "\n",
        "    # criar diretórios por classe\n",
        "    for class_name in set(img_to_class.values()):\n",
        "        class_dir = os.path.join(val_dir, class_name)\n",
        "        os.makedirs(class_dir, exist_ok=True)\n",
        "\n",
        "    # mover imagens para diretórios de classe\n",
        "    for img_name, class_name in tqdm(img_to_class.items(), desc=\"Movendo imagens\"):\n",
        "        src = os.path.join(images_dir, img_name)\n",
        "        dst = os.path.join(val_dir, class_name, img_name)\n",
        "        if os.path.exists(src):\n",
        "            shutil.move(src, dst)\n",
        "\n",
        "    # remover diretório de imagens vazio e arquivo de anotações\n",
        "    if os.path.exists(images_dir):\n",
        "        os.rmdir(images_dir)\n",
        "    if os.path.exists(val_annotations):\n",
        "        os.remove(val_annotations)"
      ],
      "metadata": {
        "id": "UGaBHKk3yPmY"
      },
      "execution_count": null,
      "outputs": []
    },
    {
      "cell_type": "markdown",
      "source": [
        "Baixando e preparando Tiny ImageNet:"
      ],
      "metadata": {
        "id": "3oYNtzEizqJ0"
      }
    },
    {
      "cell_type": "code",
      "source": [
        "tiny_imagenet_path = download_tiny_imagenet()\n",
        "\n",
        "organize_tiny_imagenet_val(tiny_imagenet_path)"
      ],
      "metadata": {
        "id": "MZbXXVBczuVC"
      },
      "execution_count": null,
      "outputs": []
    },
    {
      "cell_type": "markdown",
      "source": [
        "\n",
        "\n",
        "---\n",
        "\n",
        "\n",
        "\n",
        "Preparando os Dataloaders\n",
        "\n"
      ],
      "metadata": {
        "id": "yZZLpS_x0UqK"
      }
    },
    {
      "cell_type": "markdown",
      "source": [
        "Usando modularização, para melhor visualização:"
      ],
      "metadata": {
        "id": "4R44LGmm0xQv"
      }
    },
    {
      "cell_type": "code",
      "source": [
        "def prepare_mnist_dataloader(batch_size=128):\n",
        "    transform = transforms.Compose([\n",
        "        transforms.Grayscale(num_output_channels=3),\n",
        "        transforms.Resize(224),\n",
        "        transforms.ToTensor(),\n",
        "        transforms.Normalize(mean=[0.485, 0.456, 0.406],\n",
        "                           std=[0.229, 0.224, 0.225])  # Normalização ImageNet\n",
        "    ])\n",
        "\n",
        "    test_dataset = datasets.MNIST(\n",
        "        root='./data',\n",
        "        train=False,\n",
        "        download=True,\n",
        "        transform=transform\n",
        "    )\n",
        "\n",
        "    test_loader = DataLoader(\n",
        "        test_dataset,\n",
        "        batch_size=batch_size,\n",
        "        shuffle=False,\n",
        "        num_workers=2,\n",
        "        pin_memory=True\n",
        "    )\n",
        "    return test_loader"
      ],
      "metadata": {
        "id": "FCbX_EPk0cfW"
      },
      "execution_count": null,
      "outputs": []
    },
    {
      "cell_type": "code",
      "source": [
        "def prepare_tiny_imagenet_dataloader(tiny_imagenet_path, batch_size=128):\n",
        "    transform = transforms.Compose([\n",
        "        transforms.Resize(224),  # 64x64 → 224x224\n",
        "        transforms.ToTensor(),\n",
        "        transforms.Normalize(mean=[0.485, 0.456, 0.406],\n",
        "                           std=[0.229, 0.224, 0.225])  # Normalização ImageNet\n",
        "    ])\n",
        "\n",
        "    val_path = os.path.join(tiny_imagenet_path, 'val')\n",
        "\n",
        "    test_dataset = datasets.ImageFolder(\n",
        "        root=val_path,\n",
        "        transform=transform\n",
        "    )\n",
        "\n",
        "    test_loader = DataLoader(\n",
        "        test_dataset,\n",
        "        batch_size=batch_size,\n",
        "        shuffle=False,\n",
        "        num_workers=2,\n",
        "        pin_memory=True\n",
        "    )\n",
        "    return test_loader"
      ],
      "metadata": {
        "id": "6Jnh-7yt1BCX"
      },
      "execution_count": null,
      "outputs": []
    },
    {
      "cell_type": "markdown",
      "source": [
        "\n",
        "\n",
        "---\n",
        "Função para a avaliação genérica para servir tanto para o Tiny ImageNet quanto para o MNIST:\n"
      ],
      "metadata": {
        "id": "DDeYWvaC1S6t"
      }
    },
    {
      "cell_type": "code",
      "source": [
        "def evaluate_model(model, dataloader, device, dataset_name, num_classes_dataset, class_mapping=None):\n",
        "    model.eval()\n",
        "    correct = 0\n",
        "    total = 0\n",
        "    correct_top5 = 0\n",
        "    print(f\"Avaliando o dataset: {dataset_name}\")\n",
        "    print(f\"Classes no dataset: {num_classes_dataset}\")\n",
        "    print(f\"Classes no modelo: {model.fc.out_features}\")\n",
        "\n",
        "    with torch.no_grad():\n",
        "        for images, labels in tqdm(dataloader, desc=f\"Testando\"):\n",
        "            images, labels = images.to(device), labels.to(device)\n",
        "\n",
        "            # forward pass\n",
        "            outputs = model(images)\n",
        "\n",
        "            _, predicted = torch.max(outputs.data, 1)\n",
        "\n",
        "            _, top5_predicted = torch.topk(outputs.data, 5, dim=1)\n",
        "            # se houver mapeamento de classes, usar isso\n",
        "            if class_mapping is not None:\n",
        "                mapped_labels = torch.tensor([class_mapping.get(l.item(), -1) for l in labels]).to(device)\n",
        "                valid_mask = mapped_labels != -1\n",
        "                if valid_mask.sum() > 0:\n",
        "                    correct += (predicted[valid_mask] == mapped_labels[valid_mask]).sum().item()\n",
        "\n",
        "                    for i in range(len(labels)):\n",
        "                        if valid_mask[i]:\n",
        "                            if mapped_labels[i] in top5_predicted[i]:\n",
        "                                correct_top5 += 1\n",
        "\n",
        "                    total += valid_mask.sum().item()\n",
        "            else:\n",
        "                # Sem mapeamento, comparação direta\n",
        "                correct += (predicted == labels).sum().item()\n",
        "\n",
        "                for i in range(len(labels)):\n",
        "                    if labels[i] in top5_predicted[i]:\n",
        "                        correct_top5 += 1\n",
        "\n",
        "                total += labels.size(0)\n",
        "\n",
        "    accuracy = 100 * correct / total if total > 0 else 0\n",
        "    accuracy_top5 = 100 * correct_top5 / total if total > 0 else 0\n",
        "\n",
        "    print(f\"   Total de imagens testadas: {total}\")\n",
        "    print(f\"   Predições corretas: {correct}\")\n",
        "    print(f\"   Predições incorretas: {total - correct}\")\n",
        "    print(f\"   Acurácia: {accuracy:.2f}%\")\n",
        "    return accuracy\n"
      ],
      "metadata": {
        "id": "RGpzPJzq1ZNv"
      },
      "execution_count": null,
      "outputs": []
    },
    {
      "cell_type": "markdown",
      "source": [
        "\n",
        "\n",
        "---\n",
        "Execução principal\n"
      ],
      "metadata": {
        "id": "g0z-Y6Pi2DTj"
      }
    },
    {
      "cell_type": "markdown",
      "source": [
        "Carregando o modelo ResNet18 pré-treinado com o ImageNet"
      ],
      "metadata": {
        "id": "JhNn0qIT2QEj"
      }
    },
    {
      "cell_type": "code",
      "source": [
        "weights = ResNet18_Weights.IMAGENET1K_V1\n",
        "model = resnet18(weights=weights)\n",
        "model = model.to(device)\n",
        "model.eval()"
      ],
      "metadata": {
        "colab": {
          "base_uri": "https://localhost:8080/"
        },
        "id": "59mWQXKi2GT7",
        "outputId": "909c6014-7a2c-426e-a1b5-7acac77670f4"
      },
      "execution_count": null,
      "outputs": [
        {
          "output_type": "execute_result",
          "data": {
            "text/plain": [
              "ResNet(\n",
              "  (conv1): Conv2d(3, 64, kernel_size=(7, 7), stride=(2, 2), padding=(3, 3), bias=False)\n",
              "  (bn1): BatchNorm2d(64, eps=1e-05, momentum=0.1, affine=True, track_running_stats=True)\n",
              "  (relu): ReLU(inplace=True)\n",
              "  (maxpool): MaxPool2d(kernel_size=3, stride=2, padding=1, dilation=1, ceil_mode=False)\n",
              "  (layer1): Sequential(\n",
              "    (0): BasicBlock(\n",
              "      (conv1): Conv2d(64, 64, kernel_size=(3, 3), stride=(1, 1), padding=(1, 1), bias=False)\n",
              "      (bn1): BatchNorm2d(64, eps=1e-05, momentum=0.1, affine=True, track_running_stats=True)\n",
              "      (relu): ReLU(inplace=True)\n",
              "      (conv2): Conv2d(64, 64, kernel_size=(3, 3), stride=(1, 1), padding=(1, 1), bias=False)\n",
              "      (bn2): BatchNorm2d(64, eps=1e-05, momentum=0.1, affine=True, track_running_stats=True)\n",
              "    )\n",
              "    (1): BasicBlock(\n",
              "      (conv1): Conv2d(64, 64, kernel_size=(3, 3), stride=(1, 1), padding=(1, 1), bias=False)\n",
              "      (bn1): BatchNorm2d(64, eps=1e-05, momentum=0.1, affine=True, track_running_stats=True)\n",
              "      (relu): ReLU(inplace=True)\n",
              "      (conv2): Conv2d(64, 64, kernel_size=(3, 3), stride=(1, 1), padding=(1, 1), bias=False)\n",
              "      (bn2): BatchNorm2d(64, eps=1e-05, momentum=0.1, affine=True, track_running_stats=True)\n",
              "    )\n",
              "  )\n",
              "  (layer2): Sequential(\n",
              "    (0): BasicBlock(\n",
              "      (conv1): Conv2d(64, 128, kernel_size=(3, 3), stride=(2, 2), padding=(1, 1), bias=False)\n",
              "      (bn1): BatchNorm2d(128, eps=1e-05, momentum=0.1, affine=True, track_running_stats=True)\n",
              "      (relu): ReLU(inplace=True)\n",
              "      (conv2): Conv2d(128, 128, kernel_size=(3, 3), stride=(1, 1), padding=(1, 1), bias=False)\n",
              "      (bn2): BatchNorm2d(128, eps=1e-05, momentum=0.1, affine=True, track_running_stats=True)\n",
              "      (downsample): Sequential(\n",
              "        (0): Conv2d(64, 128, kernel_size=(1, 1), stride=(2, 2), bias=False)\n",
              "        (1): BatchNorm2d(128, eps=1e-05, momentum=0.1, affine=True, track_running_stats=True)\n",
              "      )\n",
              "    )\n",
              "    (1): BasicBlock(\n",
              "      (conv1): Conv2d(128, 128, kernel_size=(3, 3), stride=(1, 1), padding=(1, 1), bias=False)\n",
              "      (bn1): BatchNorm2d(128, eps=1e-05, momentum=0.1, affine=True, track_running_stats=True)\n",
              "      (relu): ReLU(inplace=True)\n",
              "      (conv2): Conv2d(128, 128, kernel_size=(3, 3), stride=(1, 1), padding=(1, 1), bias=False)\n",
              "      (bn2): BatchNorm2d(128, eps=1e-05, momentum=0.1, affine=True, track_running_stats=True)\n",
              "    )\n",
              "  )\n",
              "  (layer3): Sequential(\n",
              "    (0): BasicBlock(\n",
              "      (conv1): Conv2d(128, 256, kernel_size=(3, 3), stride=(2, 2), padding=(1, 1), bias=False)\n",
              "      (bn1): BatchNorm2d(256, eps=1e-05, momentum=0.1, affine=True, track_running_stats=True)\n",
              "      (relu): ReLU(inplace=True)\n",
              "      (conv2): Conv2d(256, 256, kernel_size=(3, 3), stride=(1, 1), padding=(1, 1), bias=False)\n",
              "      (bn2): BatchNorm2d(256, eps=1e-05, momentum=0.1, affine=True, track_running_stats=True)\n",
              "      (downsample): Sequential(\n",
              "        (0): Conv2d(128, 256, kernel_size=(1, 1), stride=(2, 2), bias=False)\n",
              "        (1): BatchNorm2d(256, eps=1e-05, momentum=0.1, affine=True, track_running_stats=True)\n",
              "      )\n",
              "    )\n",
              "    (1): BasicBlock(\n",
              "      (conv1): Conv2d(256, 256, kernel_size=(3, 3), stride=(1, 1), padding=(1, 1), bias=False)\n",
              "      (bn1): BatchNorm2d(256, eps=1e-05, momentum=0.1, affine=True, track_running_stats=True)\n",
              "      (relu): ReLU(inplace=True)\n",
              "      (conv2): Conv2d(256, 256, kernel_size=(3, 3), stride=(1, 1), padding=(1, 1), bias=False)\n",
              "      (bn2): BatchNorm2d(256, eps=1e-05, momentum=0.1, affine=True, track_running_stats=True)\n",
              "    )\n",
              "  )\n",
              "  (layer4): Sequential(\n",
              "    (0): BasicBlock(\n",
              "      (conv1): Conv2d(256, 512, kernel_size=(3, 3), stride=(2, 2), padding=(1, 1), bias=False)\n",
              "      (bn1): BatchNorm2d(512, eps=1e-05, momentum=0.1, affine=True, track_running_stats=True)\n",
              "      (relu): ReLU(inplace=True)\n",
              "      (conv2): Conv2d(512, 512, kernel_size=(3, 3), stride=(1, 1), padding=(1, 1), bias=False)\n",
              "      (bn2): BatchNorm2d(512, eps=1e-05, momentum=0.1, affine=True, track_running_stats=True)\n",
              "      (downsample): Sequential(\n",
              "        (0): Conv2d(256, 512, kernel_size=(1, 1), stride=(2, 2), bias=False)\n",
              "        (1): BatchNorm2d(512, eps=1e-05, momentum=0.1, affine=True, track_running_stats=True)\n",
              "      )\n",
              "    )\n",
              "    (1): BasicBlock(\n",
              "      (conv1): Conv2d(512, 512, kernel_size=(3, 3), stride=(1, 1), padding=(1, 1), bias=False)\n",
              "      (bn1): BatchNorm2d(512, eps=1e-05, momentum=0.1, affine=True, track_running_stats=True)\n",
              "      (relu): ReLU(inplace=True)\n",
              "      (conv2): Conv2d(512, 512, kernel_size=(3, 3), stride=(1, 1), padding=(1, 1), bias=False)\n",
              "      (bn2): BatchNorm2d(512, eps=1e-05, momentum=0.1, affine=True, track_running_stats=True)\n",
              "    )\n",
              "  )\n",
              "  (avgpool): AdaptiveAvgPool2d(output_size=(1, 1))\n",
              "  (fc): Linear(in_features=512, out_features=1000, bias=True)\n",
              ")"
            ]
          },
          "metadata": {},
          "execution_count": 60
        }
      ]
    },
    {
      "cell_type": "code",
      "source": [
        "print(f\"Classes de saída: {model.fc.out_features}\")"
      ],
      "metadata": {
        "colab": {
          "base_uri": "https://localhost:8080/"
        },
        "id": "jaNXUIIa2m6-",
        "outputId": "e3ea034b-2272-48ed-8b5e-d75c3a2f63b3"
      },
      "execution_count": null,
      "outputs": [
        {
          "output_type": "stream",
          "name": "stdout",
          "text": [
            "Classes de saída: 1000\n"
          ]
        }
      ]
    },
    {
      "cell_type": "markdown",
      "source": [
        "Dicionário onde vamos armazenar os resultados:"
      ],
      "metadata": {
        "id": "0bQizF052tzy"
      }
    },
    {
      "cell_type": "code",
      "source": [
        "resultados = {}"
      ],
      "metadata": {
        "id": "JITZWepi2xVQ"
      },
      "execution_count": null,
      "outputs": []
    },
    {
      "cell_type": "markdown",
      "source": [
        "Primeiro testando o MNIST"
      ],
      "metadata": {
        "id": "VX_eQ8tW28c5"
      }
    },
    {
      "cell_type": "code",
      "source": [
        "mnist_loader = prepare_mnist_dataloader(batch_size=256)\n",
        "resultados['MNIST'] = evaluate_model(model, mnist_loader, device, \"MNIST\", num_classes_dataset=10)"
      ],
      "metadata": {
        "colab": {
          "base_uri": "https://localhost:8080/"
        },
        "id": "cbwradi-2_B_",
        "outputId": "44992875-4754-4006-febc-356226732bb0"
      },
      "execution_count": null,
      "outputs": [
        {
          "output_type": "stream",
          "name": "stdout",
          "text": [
            "Avaliando o dataset: MNIST\n",
            "Classes no dataset: 10\n",
            "Classes no modelo: 1000\n"
          ]
        },
        {
          "output_type": "stream",
          "name": "stderr",
          "text": [
            "Testando: 100%|██████████| 40/40 [00:19<00:00,  2.08it/s]"
          ]
        },
        {
          "output_type": "stream",
          "name": "stdout",
          "text": [
            "   Total de imagens testadas: 10000\n",
            "   Predições corretas: 0\n",
            "   Predições incorretas: 10000\n",
            "   Acurácia: 0.00%\n"
          ]
        },
        {
          "output_type": "stream",
          "name": "stderr",
          "text": [
            "\n"
          ]
        }
      ]
    },
    {
      "cell_type": "markdown",
      "source": [
        "Agora testando o Tiny ImageNet"
      ],
      "metadata": {
        "id": "E-c9vtGi3LFo"
      }
    },
    {
      "cell_type": "code",
      "source": [
        "tiny_loader = prepare_tiny_imagenet_dataloader(tiny_imagenet_path, batch_size=256)\n",
        "resultados['Tiny ImageNet'] = evaluate_model(model, tiny_loader, device, \"Tiny ImageNet\", num_classes_dataset=200)"
      ],
      "metadata": {
        "colab": {
          "base_uri": "https://localhost:8080/"
        },
        "id": "VIWT3k7Y3Pv4",
        "outputId": "8dcff6ab-6cbb-4f8f-bd96-6e12af3fa102"
      },
      "execution_count": null,
      "outputs": [
        {
          "output_type": "stream",
          "name": "stdout",
          "text": [
            "Avaliando o dataset: Tiny ImageNet\n",
            "Classes no dataset: 200\n",
            "Classes no modelo: 1000\n"
          ]
        },
        {
          "output_type": "stream",
          "name": "stderr",
          "text": [
            "Testando: 100%|██████████| 40/40 [00:24<00:00,  1.66it/s]"
          ]
        },
        {
          "output_type": "stream",
          "name": "stdout",
          "text": [
            "   Total de imagens testadas: 10000\n",
            "   Predições corretas: 3\n",
            "   Predições incorretas: 9997\n",
            "   Acurácia: 0.03%\n"
          ]
        },
        {
          "output_type": "stream",
          "name": "stderr",
          "text": [
            "\n"
          ]
        }
      ]
    },
    {
      "cell_type": "markdown",
      "source": [
        "### **Analisando os resultados:**"
      ],
      "metadata": {
        "id": "UL90Nh7J6fCe"
      }
    },
    {
      "cell_type": "markdown",
      "source": [
        "\n",
        "> O modelo ResNet18 foi treinado para classificar exatamente 1000 classes\n",
        "do ImageNet, cada uma com um índice específico (0-999).\n",
        "\n",
        "> Como vimos na avaliação do MNIST, tem apenas 10 classes (dígitos 0-9) a acurácia é muito baixa: 0%. Porque os domínios são muito diferentes, dígitos manuscritos e objetos do mundo real.\n",
        "\n",
        "> E no Tiny ImageNet tem 200 classes (subset do ImageNet), apresentando o problema de  MISMATCH de índices de classes e os 0.3% de acerto são conincidência quando, por acaso o índice no Tiny é igual ao índice no ImageNet.O modelo está semanticamente correrto, mas numericamente errado!\n",
        "\n",
        "> Para obter um bom resultado seria necessário, para o MNIST, remover a última camada, adicionar nova camada final com 10 classes, fazer Fine-tuning, treinando apenas a nova camada e para Tiny ImageNet, mapear corretamente os índices.\n",
        "\n",
        "> Se a avaliação fosse feita direto no dataset ImageNet completo, a acurácia deveria ser bem mais alta, devido a igualdade dos domínios de treinamento e avaliação.\n",
        "\n",
        "\n",
        "\n"
      ],
      "metadata": {
        "id": "EV9FL0aY6jxg"
      }
    }
  ]
}